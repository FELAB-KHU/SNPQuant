{
 "cells": [
  {
   "cell_type": "markdown",
   "metadata": {},
   "source": [
    "# 파일명 변경 및 정크 데이터 삭제"
   ]
  },
  {
   "cell_type": "code",
   "execution_count": 42,
   "metadata": {},
   "outputs": [],
   "source": [
    "import os\n",
    "import re\n",
    "from langdetect import detect\n",
    "from mutagen.mp3 import MP3\n",
    "from datetime import datetime  # datetime 클래스를 명시적으로 임포트\n",
    "\n",
    "directory = './data/'  # MP3 파일들이 위치한 폴더 경로\n",
    "\n",
    "# 파일을 생성 날짜에 따라 정렬\n",
    "mp3_files = [f for f in os.listdir(directory) if f.endswith('.mp3')]\n",
    "mp3_files.sort(key=lambda x: os.path.getctime(os.path.join(directory, x)))\n",
    "\n",
    "def clean_filename(filename):\n",
    "    \"\"\"특수문자를 제외한 파일 이름을 반환합니다.\"\"\"\n",
    "    # 알파벳, 숫자, 공백, 하이픈, 언더스코어만 허용\n",
    "    return re.sub(r'[^\\w\\s-]', '', filename)\n",
    "\n",
    "# 파일 처리 및 이름 변경\n",
    "for index, filename in enumerate(mp3_files, 1):\n",
    "    try:\n",
    "        file_path = os.path.join(directory, filename)\n",
    "        audio = MP3(file_path)\n",
    "\n",
    "        # 비영어 제목 확인\n",
    "        if detect(filename) != 'en':\n",
    "            os.remove(file_path)\n",
    "            continue\n",
    "\n",
    "        # 파일 길이 확인 (7분 미만 제거)\n",
    "        if audio.info.length < 420:\n",
    "            os.remove(file_path)\n",
    "            continue\n",
    "\n",
    "        # 파일 이름에서 특수문자 제거\n",
    "        clean_name = clean_filename(filename)\n",
    "        \n",
    "        # 파일 생성 날짜를 '년-월-일' 형식으로 변환\n",
    "        creation_time = datetime.fromtimestamp(os.path.getmtime(file_path)).strftime('%Y%m%d')\n",
    "\n",
    "        # 확장자 유지\n",
    "        extension = '.mp3'\n",
    "\n",
    "        # 파일 이름 변경 (인덱스-생성 날짜-제목 형식)\n",
    "        new_filename = f\"{index}_{creation_time}_{clean_name}{extension}\"\n",
    "        new_file_path = os.path.join(directory, new_filename)\n",
    "        os.rename(file_path, new_file_path)\n",
    "\n",
    "    except Exception as e:\n",
    "        print(f\"Error processing file {filename}: {e}\")\n"
   ]
  },
  {
   "cell_type": "code",
   "execution_count": 44,
   "metadata": {},
   "outputs": [],
   "source": [
    "import os\n",
    "\n",
    "for filename in os.listdir(directory):\n",
    "    if filename.endswith('mp3'):  # 'mp3'로 끝나는 파일 이름 찾기\n",
    "        correct_filename = filename[:-7] + '.mp3'  # 올바른 확장자 '.mp3'로 변경\n",
    "        os.rename(os.path.join(directory, filename), os.path.join(directory, correct_filename))\n"
   ]
  },
  {
   "cell_type": "code",
   "execution_count": 41,
   "metadata": {},
   "outputs": [],
   "source": [
    "import os\n",
    "\n",
    "def remove_specific_part(filename, part_to_remove):\n",
    "    \"\"\" 파일 이름에서 특정 부분을 제거하는 함수 \"\"\"\n",
    "    return filename.replace(part_to_remove, '', 1)  # 부분을 한 번만 제거\n",
    "\n",
    "for filename in os.listdir(directory):\n",
    "    if filename.endswith('.mp3'):\n",
    "        # 제거하고자 하는 부분을 정의 (예: \"-1-2023-11-15\")\n",
    "        parts = filename.split('_')\n",
    "        part_to_remove = '_'.join(parts[0:2]) + '_'\n",
    "        \n",
    "        # 특정 부분을 제거\n",
    "        new_filename = remove_specific_part(filename, part_to_remove)\n",
    "\n",
    "        # 파일 이름 변경\n",
    "        os.rename(os.path.join(directory, filename), os.path.join(directory, new_filename))\n"
   ]
  },
  {
   "cell_type": "markdown",
   "metadata": {},
   "source": [
    "# 위스퍼를 통해 텍스트화"
   ]
  },
  {
   "cell_type": "code",
   "execution_count": null,
   "metadata": {},
   "outputs": [],
   "source": [
    "import os\n",
    "import natsort\n",
    "from tqdm import tqdm\n",
    "import time\n",
    "import stable_whisper\n",
    "\n",
    "directory_path = \"./data\"\n",
    "\n",
    "# Load Whisper model\n",
    "model = stable_whisper.load_faster_whisper('.', device=\"cuda\", compute_type=\"float16\")\n",
    "\n",
    "# Walk through the directory\n",
    "for root, dirs, files in os.walk(directory_path):\n",
    "    files = natsort.natsorted(files)\n",
    "    \n",
    "    # Wrap file processing with tqdm\n",
    "    with tqdm(total=len(files), desc=\"Processing files\", unit=\"file\") as pbar:\n",
    "        for file in files:\n",
    "            # Process only .mp3 files\n",
    "            if file.endswith(\".mp3\"):\n",
    "                video_file_path = os.path.join(root, file)\n",
    "                video_filename = os.path.splitext(os.path.basename(video_file_path))[0]\n",
    "                txt_filename = f'{video_filename}.txt'\n",
    "                txt_file_path = f\"./transcribe/{txt_filename}\"\n",
    "\n",
    "                # Check if the txt file already exists\n",
    "                if os.path.exists(txt_file_path):\n",
    "                    tqdm.write(f\"Skipping {txt_filename} as it already exists.\")\n",
    "                else:\n",
    "                    # Transcribe the video\n",
    "                    result = model.transcribe_stable(video_file_path, vad=True, language=\"en\", verbose=False)\n",
    "\n",
    "                    # Save the result to a txt file\n",
    "                    with open(txt_file_path, 'w', encoding='utf-8') as txt_file:\n",
    "                        txt_file.write(result.text)\n",
    "\n",
    "                    tqdm.write(f\"Processing {file}\")\n",
    "\n",
    "                # Update the tqdm progress bar\n",
    "                pbar.update(1)\n"
   ]
  },
  {
   "cell_type": "code",
   "execution_count": null,
   "metadata": {},
   "outputs": [],
   "source": []
  }
 ],
 "metadata": {
  "kernelspec": {
   "display_name": ".felab",
   "language": "python",
   "name": ".felab"
  },
  "language_info": {
   "codemirror_mode": {
    "name": "ipython",
    "version": 3
   },
   "file_extension": ".py",
   "mimetype": "text/x-python",
   "name": "python",
   "nbconvert_exporter": "python",
   "pygments_lexer": "ipython3",
   "version": "3.10.11"
  }
 },
 "nbformat": 4,
 "nbformat_minor": 2
}
