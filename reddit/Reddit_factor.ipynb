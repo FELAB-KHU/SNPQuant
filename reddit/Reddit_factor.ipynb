{
 "cells": [
  {
   "cell_type": "code",
   "execution_count": 1,
   "id": "7216282a-7a57-4d4f-a260-1d27050efed8",
   "metadata": {},
   "outputs": [],
   "source": [
    "import pandas as pd\n",
    "from tqdm import tqdm"
   ]
  },
  {
   "cell_type": "code",
   "execution_count": 2,
   "id": "a30ee31f-7711-409b-956e-cbd9d8ca358b",
   "metadata": {},
   "outputs": [],
   "source": [
    "df = pd.read_csv('./df.csv')"
   ]
  },
  {
   "cell_type": "code",
   "execution_count": 9,
   "id": "86dd8ce5-a1f5-4563-acbc-3a6fdbfc0644",
   "metadata": {},
   "outputs": [
    {
     "data": {
      "text/plain": [
       "array(['GME', 'AMC', 'EV', ..., 'TLS', 'ISRG', 'AKRO'], dtype=object)"
      ]
     },
     "execution_count": 9,
     "metadata": {},
     "output_type": "execute_result"
    }
   ],
   "source": [
    "df['ticker'].unique()"
   ]
  },
  {
   "cell_type": "code",
   "execution_count": 3,
   "id": "4c05cba7-8e65-46b3-b2af-d8ff655597fb",
   "metadata": {},
   "outputs": [],
   "source": [
    "df.dropna(inplace=True)"
   ]
  },
  {
   "cell_type": "code",
   "execution_count": 4,
   "id": "9ddd08e3-eeae-44a4-a8fc-f99acb965351",
   "metadata": {},
   "outputs": [
    {
     "data": {
      "text/plain": [
       "'2021-03-21'"
      ]
     },
     "execution_count": 4,
     "metadata": {},
     "output_type": "execute_result"
    }
   ],
   "source": [
    "date_list = list(df['date'].unique())\n",
    "day_df = df[df['date']==date_list[0]]\n",
    "date_list[0]"
   ]
  },
  {
   "cell_type": "code",
   "execution_count": 5,
   "id": "99ad08e2-8d39-4217-b1df-d7ab75c1677b",
   "metadata": {},
   "outputs": [
    {
     "name": "stderr",
     "output_type": "stream",
     "text": [
      "100%|████████████████████████████████████████████████████████████████████████████████| 931/931 [00:02<00:00, 390.20it/s]\n"
     ]
    }
   ],
   "source": [
    "lst = []\n",
    "\n",
    "for i in tqdm(date_list):\n",
    "    day_df = df[df['date'] == i]\n",
    "    day_list = list(day_df['no_of_comments']/day_df['no_of_comments'].sum())\n",
    "\n",
    "    lst = lst + day_list"
   ]
  },
  {
   "cell_type": "code",
   "execution_count": 6,
   "id": "4721fab8-9f52-4814-a994-6bb5793d5fe5",
   "metadata": {},
   "outputs": [],
   "source": [
    "df['com_weight'] = lst"
   ]
  },
  {
   "cell_type": "code",
   "execution_count": 15,
   "id": "81695a11-f17b-4e2a-976e-8e469e3001ad",
   "metadata": {},
   "outputs": [
    {
     "data": {
      "text/html": [
       "<div>\n",
       "<style scoped>\n",
       "    .dataframe tbody tr th:only-of-type {\n",
       "        vertical-align: middle;\n",
       "    }\n",
       "\n",
       "    .dataframe tbody tr th {\n",
       "        vertical-align: top;\n",
       "    }\n",
       "\n",
       "    .dataframe thead th {\n",
       "        text-align: right;\n",
       "    }\n",
       "</style>\n",
       "<table border=\"1\" class=\"dataframe\">\n",
       "  <thead>\n",
       "    <tr style=\"text-align: right;\">\n",
       "      <th></th>\n",
       "      <th>no_of_comments</th>\n",
       "      <th>sentiment</th>\n",
       "      <th>sentiment_score</th>\n",
       "      <th>ticker</th>\n",
       "      <th>date</th>\n",
       "      <th>com_weight</th>\n",
       "    </tr>\n",
       "  </thead>\n",
       "  <tbody>\n",
       "    <tr>\n",
       "      <th>0</th>\n",
       "      <td>526</td>\n",
       "      <td>Bullish</td>\n",
       "      <td>0.130</td>\n",
       "      <td>GME</td>\n",
       "      <td>2021-03-21</td>\n",
       "      <td>0.396682</td>\n",
       "    </tr>\n",
       "    <tr>\n",
       "      <th>1</th>\n",
       "      <td>249</td>\n",
       "      <td>Bullish</td>\n",
       "      <td>0.159</td>\n",
       "      <td>AMC</td>\n",
       "      <td>2021-03-21</td>\n",
       "      <td>0.187783</td>\n",
       "    </tr>\n",
       "    <tr>\n",
       "      <th>2</th>\n",
       "      <td>65</td>\n",
       "      <td>Bullish</td>\n",
       "      <td>0.227</td>\n",
       "      <td>EV</td>\n",
       "      <td>2021-03-21</td>\n",
       "      <td>0.049020</td>\n",
       "    </tr>\n",
       "    <tr>\n",
       "      <th>3</th>\n",
       "      <td>55</td>\n",
       "      <td>Bullish</td>\n",
       "      <td>0.220</td>\n",
       "      <td>PLTR</td>\n",
       "      <td>2021-03-21</td>\n",
       "      <td>0.041478</td>\n",
       "    </tr>\n",
       "    <tr>\n",
       "      <th>4</th>\n",
       "      <td>44</td>\n",
       "      <td>Bullish</td>\n",
       "      <td>0.257</td>\n",
       "      <td>TSLA</td>\n",
       "      <td>2021-03-21</td>\n",
       "      <td>0.033183</td>\n",
       "    </tr>\n",
       "    <tr>\n",
       "      <th>...</th>\n",
       "      <td>...</td>\n",
       "      <td>...</td>\n",
       "      <td>...</td>\n",
       "      <td>...</td>\n",
       "      <td>...</td>\n",
       "      <td>...</td>\n",
       "    </tr>\n",
       "    <tr>\n",
       "      <th>46595</th>\n",
       "      <td>2</td>\n",
       "      <td>Bearish</td>\n",
       "      <td>0.000</td>\n",
       "      <td>PUMP</td>\n",
       "      <td>2023-10-10</td>\n",
       "      <td>0.006098</td>\n",
       "    </tr>\n",
       "    <tr>\n",
       "      <th>46596</th>\n",
       "      <td>2</td>\n",
       "      <td>Bullish</td>\n",
       "      <td>0.523</td>\n",
       "      <td>HUGE</td>\n",
       "      <td>2023-10-10</td>\n",
       "      <td>0.006098</td>\n",
       "    </tr>\n",
       "    <tr>\n",
       "      <th>46597</th>\n",
       "      <td>2</td>\n",
       "      <td>Bullish</td>\n",
       "      <td>0.436</td>\n",
       "      <td>RIVN</td>\n",
       "      <td>2023-10-10</td>\n",
       "      <td>0.006098</td>\n",
       "    </tr>\n",
       "    <tr>\n",
       "      <th>46598</th>\n",
       "      <td>2</td>\n",
       "      <td>Bearish</td>\n",
       "      <td>-0.187</td>\n",
       "      <td>AKRO</td>\n",
       "      <td>2023-10-10</td>\n",
       "      <td>0.006098</td>\n",
       "    </tr>\n",
       "    <tr>\n",
       "      <th>46599</th>\n",
       "      <td>2</td>\n",
       "      <td>Bullish</td>\n",
       "      <td>0.467</td>\n",
       "      <td>EV</td>\n",
       "      <td>2023-10-10</td>\n",
       "      <td>0.006098</td>\n",
       "    </tr>\n",
       "  </tbody>\n",
       "</table>\n",
       "<p>46124 rows × 6 columns</p>\n",
       "</div>"
      ],
      "text/plain": [
       "       no_of_comments sentiment  sentiment_score ticker        date  \\\n",
       "0                 526   Bullish            0.130    GME  2021-03-21   \n",
       "1                 249   Bullish            0.159    AMC  2021-03-21   \n",
       "2                  65   Bullish            0.227     EV  2021-03-21   \n",
       "3                  55   Bullish            0.220   PLTR  2021-03-21   \n",
       "4                  44   Bullish            0.257   TSLA  2021-03-21   \n",
       "...               ...       ...              ...    ...         ...   \n",
       "46595               2   Bearish            0.000   PUMP  2023-10-10   \n",
       "46596               2   Bullish            0.523   HUGE  2023-10-10   \n",
       "46597               2   Bullish            0.436   RIVN  2023-10-10   \n",
       "46598               2   Bearish           -0.187   AKRO  2023-10-10   \n",
       "46599               2   Bullish            0.467     EV  2023-10-10   \n",
       "\n",
       "       com_weight  \n",
       "0        0.396682  \n",
       "1        0.187783  \n",
       "2        0.049020  \n",
       "3        0.041478  \n",
       "4        0.033183  \n",
       "...           ...  \n",
       "46595    0.006098  \n",
       "46596    0.006098  \n",
       "46597    0.006098  \n",
       "46598    0.006098  \n",
       "46599    0.006098  \n",
       "\n",
       "[46124 rows x 6 columns]"
      ]
     },
     "execution_count": 15,
     "metadata": {},
     "output_type": "execute_result"
    }
   ],
   "source": [
    "df"
   ]
  },
  {
   "cell_type": "code",
   "execution_count": 7,
   "id": "36af1684-7537-4f0a-b802-76ef61bda33d",
   "metadata": {},
   "outputs": [
    {
     "name": "stderr",
     "output_type": "stream",
     "text": [
      "100%|████████████████████████████████████████████████████████████████████████████████| 931/931 [00:02<00:00, 396.37it/s]\n"
     ]
    }
   ],
   "source": [
    "day_factor = []\n",
    "\n",
    "for i in tqdm(date_list):\n",
    "    day_df = df[df['date'] == i]\n",
    "    factor = day_df['com_weight']*day_df['sentiment_score']\n",
    "    factor = factor.sum()\n",
    "    factor = factor / len(day_df)\n",
    "\n",
    "    day_factor.append(round(factor,6))"
   ]
  },
  {
   "cell_type": "code",
   "execution_count": 25,
   "id": "0687c5c6-d5b8-482a-b5e6-ec3c32a39535",
   "metadata": {},
   "outputs": [],
   "source": [
    "day_list = list(df['date'].unique())"
   ]
  },
  {
   "cell_type": "code",
   "execution_count": 22,
   "id": "816487ab-4bbb-42b1-bbcb-036f925a692a",
   "metadata": {},
   "outputs": [],
   "source": [
    "factor_df = pd.DataFrame({'factor':day_factor}, index=day_list)"
   ]
  },
  {
   "cell_type": "code",
   "execution_count": 26,
   "id": "7f77ccba-ebd7-487d-84aa-9403c76df64b",
   "metadata": {},
   "outputs": [],
   "source": [
    "factor_df.to_csv('./reddit_factor.csv')"
   ]
  }
 ],
 "metadata": {
  "kernelspec": {
   "display_name": "Python 3 (ipykernel)",
   "language": "python",
   "name": "python3"
  },
  "language_info": {
   "codemirror_mode": {
    "name": "ipython",
    "version": 3
   },
   "file_extension": ".py",
   "mimetype": "text/x-python",
   "name": "python",
   "nbconvert_exporter": "python",
   "pygments_lexer": "ipython3",
   "version": "3.11.5"
  }
 },
 "nbformat": 4,
 "nbformat_minor": 5
}
