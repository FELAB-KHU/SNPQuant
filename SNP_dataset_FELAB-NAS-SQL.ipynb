{
 "cells": [
  {
   "cell_type": "code",
   "execution_count": 1,
   "id": "a59a06a7-be6f-41e3-ba93-32fa66a9b6e8",
   "metadata": {},
   "outputs": [],
   "source": [
    "import pymysql\n",
    "from sqlalchemy import create_engine\n",
    "import pandas as pd\n",
    "\n",
    "user = 'felab'\n",
    "password = 'rlawkdgh'\n",
    "host = '192.168.0.2'  # 포트 번호를 여기에 포함하지 않습니다.\n",
    "port = 3306  # 포트 번호를 별도의 변수로 설정합니다.\n",
    "database = 'db'\n",
    "table_name = 'test'\n",
    "\n",
    "# SQLAlchemy 엔진 생성 시 호스트와 포트를 정확하게 지정합니다.\n",
    "engine = create_engine(f\"mysql+pymysql://{user}:{password}@{host}:{port}/{database}\")\n",
    "\n",
    "# pymysql 연결 시에도 마찬가지로 호스트와 포트를 정확하게 지정합니다.\n",
    "connection = pymysql.connect(host=host, port=port, user=user, password=password, database=database)"
   ]
  },
  {
   "cell_type": "code",
   "execution_count": 40,
   "id": "e24a04d8",
   "metadata": {},
   "outputs": [],
   "source": [
    "table_name = 'estimates'\n",
    "query = f\"SELECT * FROM {table_name}\"\n",
    "df = pd.read_sql(query, engine)"
   ]
  },
  {
   "cell_type": "markdown",
   "metadata": {},
   "source": [
    "## 쓰기 (가벼운 데이터나 좋은 컴퓨터만 가능)"
   ]
  },
  {
   "cell_type": "markdown",
   "metadata": {},
   "source": [
    "### 데이터를 분할 했을 때"
   ]
  },
  {
   "cell_type": "code",
   "execution_count": null,
   "metadata": {},
   "outputs": [],
   "source": [
    "# Parquet 파일 읽기\n",
    "# MySQL 연결 엔진 생성\n",
    "from tqdm import tqdm\n",
    "\n",
    "files = ['market1, market2, market3']\n",
    "\n",
    "for file in tqdm(files,\n",
    "                 total = len(files),\n",
    "                 desc = \"진행률\",\n",
    "                 ncols = 50,\n",
    "                 ascii = ' =',\n",
    "                 leave = True):\n",
    "    try:\n",
    "        # MySQL에서 테이블 생성\n",
    "        df.to_sql(file, con=engine, if_exists='append', index=False)\n",
    "    except Exception as e:\n",
    "            print(f\"Error processing file {file}: {e}\")\n",
    "\n",
    "# 'if_exists' 옵션은 테이블이 이미 존재할 때 수행할 작업을 정의합니다.\n",
    "# 'replace'는 기존 테이블을 새로운 데이터로 대체합니다.\n",
    "# 'append'는 데이터를 테이블에 추가합니다.\n",
    "# 'fail'은 테이블이 존재할 경우 에러를 발생시킵니다."
   ]
  },
  {
   "cell_type": "markdown",
   "metadata": {},
   "source": [
    "### 데이터가 하나일 때"
   ]
  },
  {
   "cell_type": "code",
   "execution_count": null,
   "metadata": {},
   "outputs": [],
   "source": [
    "# Parquet 파일 읽기\n",
    "# MySQL 연결 엔진 생성\n",
    "\n",
    "file = 'company'\n",
    "df = pd.read_parquet(f'{file}.parquet')\n",
    "\n",
    "try:\n",
    "    # MySQL에서 테이블 생성\n",
    "    df.to_sql('company', con=engine, if_exists='replace', index=False)\n",
    "except Exception as e:\n",
    "        print(f\"Error processing file {file}: {e}\")\n",
    "\n",
    "# 'if_exists' 옵션은 테이블이 이미 존재할 때 수행할 작업을 정의합니다.\n",
    "# 'replace'는 기존 테이블을 새로운 데이터로 대체합니다.\n",
    "# 'append'는 데이터를 테이블에 추가합니다.\n",
    "# 'fail'은 테이블이 존재할 경우 에러를 발생시킵니다."
   ]
  }
 ],
 "metadata": {
  "kernelspec": {
   "display_name": ".felab",
   "language": "python",
   "name": ".felab"
  },
  "language_info": {
   "codemirror_mode": {
    "name": "ipython",
    "version": 3
   },
   "file_extension": ".py",
   "mimetype": "text/x-python",
   "name": "python",
   "nbconvert_exporter": "python",
   "pygments_lexer": "ipython3",
   "version": "3.10.11"
  }
 },
 "nbformat": 4,
 "nbformat_minor": 5
}
