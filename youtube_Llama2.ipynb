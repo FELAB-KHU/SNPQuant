{
 "cells": [
  {
   "cell_type": "code",
   "execution_count": 1,
   "metadata": {},
   "outputs": [
    {
     "data": {
      "text/plain": [
       "1"
      ]
     },
     "execution_count": 1,
     "metadata": {},
     "output_type": "execute_result"
    }
   ],
   "source": [
    "A = 1\n",
    "A"
   ]
  },
  {
   "cell_type": "code",
   "execution_count": 4,
   "metadata": {},
   "outputs": [],
   "source": [
    "from transformers import AutoModel, AutoTokenizer, AutoModelForCausalLM, LlamaForCausalLM, LlamaTokenizerFast\n",
    "from peft import PeftModel  # 0.5.0"
   ]
  },
  {
   "cell_type": "code",
   "execution_count": 5,
   "metadata": {},
   "outputs": [
    {
     "ename": "TypeError",
     "evalue": "Descriptors cannot not be created directly.\nIf this call came from a _pb2.py file, your generated code is out of date and must be regenerated with protoc >= 3.19.0.\nIf you cannot immediately regenerate your protos, some other possible workarounds are:\n 1. Downgrade the protobuf package to 3.20.x or lower.\n 2. Set PROTOCOL_BUFFERS_PYTHON_IMPLEMENTATION=python (but this will use pure-Python parsing and will be much slower).\n\nMore information: https://developers.google.com/protocol-buffers/docs/news/2022-05-06#python-updates",
     "output_type": "error",
     "traceback": [
      "\u001b[1;31m---------------------------------------------------------------------------\u001b[0m",
      "\u001b[1;31mTypeError\u001b[0m                                 Traceback (most recent call last)",
      "\u001b[1;32mc:\\Users\\FELAB\\Desktop\\Python_venv\\SNPquant\\youtube_Llama2.ipynb 셀 3\u001b[0m line \u001b[0;36m4\n\u001b[0;32m      <a href='vscode-notebook-cell:/c%3A/Users/FELAB/Desktop/Python_venv/SNPquant/youtube_Llama2.ipynb#W1sZmlsZQ%3D%3D?line=1'>2</a>\u001b[0m base_model \u001b[39m=\u001b[39m \u001b[39m\"\u001b[39m\u001b[39mNousResearch/Llama-2-13b-hf\u001b[39m\u001b[39m\"\u001b[39m\n\u001b[0;32m      <a href='vscode-notebook-cell:/c%3A/Users/FELAB/Desktop/Python_venv/SNPquant/youtube_Llama2.ipynb#W1sZmlsZQ%3D%3D?line=2'>3</a>\u001b[0m peft_model \u001b[39m=\u001b[39m \u001b[39m\"\u001b[39m\u001b[39mFinGPT/fingpt-sentiment_llama2-13b_lora\u001b[39m\u001b[39m\"\u001b[39m\n\u001b[1;32m----> <a href='vscode-notebook-cell:/c%3A/Users/FELAB/Desktop/Python_venv/SNPquant/youtube_Llama2.ipynb#W1sZmlsZQ%3D%3D?line=3'>4</a>\u001b[0m tokenizer \u001b[39m=\u001b[39m LlamaTokenizerFast\u001b[39m.\u001b[39;49mfrom_pretrained(base_model, trust_remote_code\u001b[39m=\u001b[39;49m\u001b[39mTrue\u001b[39;49;00m)\n\u001b[0;32m      <a href='vscode-notebook-cell:/c%3A/Users/FELAB/Desktop/Python_venv/SNPquant/youtube_Llama2.ipynb#W1sZmlsZQ%3D%3D?line=4'>5</a>\u001b[0m tokenizer\u001b[39m.\u001b[39mpad_token \u001b[39m=\u001b[39m tokenizer\u001b[39m.\u001b[39meos_token\n\u001b[0;32m      <a href='vscode-notebook-cell:/c%3A/Users/FELAB/Desktop/Python_venv/SNPquant/youtube_Llama2.ipynb#W1sZmlsZQ%3D%3D?line=5'>6</a>\u001b[0m model \u001b[39m=\u001b[39m LlamaForCausalLM\u001b[39m.\u001b[39mfrom_pretrained(base_model, trust_remote_code\u001b[39m=\u001b[39m\u001b[39mTrue\u001b[39;00m, device_map \u001b[39m=\u001b[39m \u001b[39m\"\u001b[39m\u001b[39mcuda:0\u001b[39m\u001b[39m\"\u001b[39m, load_in_8bit \u001b[39m=\u001b[39m \u001b[39mTrue\u001b[39;00m,)\n",
      "File \u001b[1;32mc:\\Users\\FELAB\\Desktop\\Python_venv\\.felab\\lib\\site-packages\\transformers\\tokenization_utils_base.py:1825\u001b[0m, in \u001b[0;36mPreTrainedTokenizerBase.from_pretrained\u001b[1;34m(cls, pretrained_model_name_or_path, *init_inputs, **kwargs)\u001b[0m\n\u001b[0;32m   1822\u001b[0m     \u001b[39melse\u001b[39;00m:\n\u001b[0;32m   1823\u001b[0m         logger\u001b[39m.\u001b[39minfo(\u001b[39mf\u001b[39m\u001b[39m\"\u001b[39m\u001b[39mloading file \u001b[39m\u001b[39m{\u001b[39;00mfile_path\u001b[39m}\u001b[39;00m\u001b[39m from cache at \u001b[39m\u001b[39m{\u001b[39;00mresolved_vocab_files[file_id]\u001b[39m}\u001b[39;00m\u001b[39m\"\u001b[39m)\n\u001b[1;32m-> 1825\u001b[0m \u001b[39mreturn\u001b[39;00m \u001b[39mcls\u001b[39m\u001b[39m.\u001b[39m_from_pretrained(\n\u001b[0;32m   1826\u001b[0m     resolved_vocab_files,\n\u001b[0;32m   1827\u001b[0m     pretrained_model_name_or_path,\n\u001b[0;32m   1828\u001b[0m     init_configuration,\n\u001b[0;32m   1829\u001b[0m     \u001b[39m*\u001b[39minit_inputs,\n\u001b[0;32m   1830\u001b[0m     use_auth_token\u001b[39m=\u001b[39muse_auth_token,\n\u001b[0;32m   1831\u001b[0m     cache_dir\u001b[39m=\u001b[39mcache_dir,\n\u001b[0;32m   1832\u001b[0m     local_files_only\u001b[39m=\u001b[39mlocal_files_only,\n\u001b[0;32m   1833\u001b[0m     _commit_hash\u001b[39m=\u001b[39mcommit_hash,\n\u001b[0;32m   1834\u001b[0m     _is_local\u001b[39m=\u001b[39mis_local,\n\u001b[0;32m   1835\u001b[0m     \u001b[39m*\u001b[39m\u001b[39m*\u001b[39mkwargs,\n\u001b[0;32m   1836\u001b[0m )\n",
      "File \u001b[1;32mc:\\Users\\FELAB\\Desktop\\Python_venv\\.felab\\lib\\site-packages\\transformers\\tokenization_utils_base.py:1988\u001b[0m, in \u001b[0;36mPreTrainedTokenizerBase._from_pretrained\u001b[1;34m(cls, resolved_vocab_files, pretrained_model_name_or_path, init_configuration, use_auth_token, cache_dir, local_files_only, _commit_hash, _is_local, *init_inputs, **kwargs)\u001b[0m\n\u001b[0;32m   1986\u001b[0m \u001b[39m# Instantiate tokenizer.\u001b[39;00m\n\u001b[0;32m   1987\u001b[0m \u001b[39mtry\u001b[39;00m:\n\u001b[1;32m-> 1988\u001b[0m     tokenizer \u001b[39m=\u001b[39m \u001b[39mcls\u001b[39m(\u001b[39m*\u001b[39minit_inputs, \u001b[39m*\u001b[39m\u001b[39m*\u001b[39minit_kwargs)\n\u001b[0;32m   1989\u001b[0m \u001b[39mexcept\u001b[39;00m \u001b[39mOSError\u001b[39;00m:\n\u001b[0;32m   1990\u001b[0m     \u001b[39mraise\u001b[39;00m \u001b[39mOSError\u001b[39;00m(\n\u001b[0;32m   1991\u001b[0m         \u001b[39m\"\u001b[39m\u001b[39mUnable to load vocabulary from file. \u001b[39m\u001b[39m\"\u001b[39m\n\u001b[0;32m   1992\u001b[0m         \u001b[39m\"\u001b[39m\u001b[39mPlease check that the provided vocabulary is accessible and not corrupted.\u001b[39m\u001b[39m\"\u001b[39m\n\u001b[0;32m   1993\u001b[0m     )\n",
      "File \u001b[1;32mc:\\Users\\FELAB\\Desktop\\Python_venv\\.felab\\lib\\site-packages\\transformers\\models\\llama\\tokenization_llama_fast.py:93\u001b[0m, in \u001b[0;36mLlamaTokenizerFast.__init__\u001b[1;34m(self, vocab_file, tokenizer_file, clean_up_tokenization_spaces, unk_token, bos_token, eos_token, add_bos_token, add_eos_token, **kwargs)\u001b[0m\n\u001b[0;32m     81\u001b[0m \u001b[39mdef\u001b[39;00m \u001b[39m__init__\u001b[39m(\n\u001b[0;32m     82\u001b[0m     \u001b[39mself\u001b[39m,\n\u001b[0;32m     83\u001b[0m     vocab_file\u001b[39m=\u001b[39m\u001b[39mNone\u001b[39;00m,\n\u001b[1;32m   (...)\u001b[0m\n\u001b[0;32m     91\u001b[0m     \u001b[39m*\u001b[39m\u001b[39m*\u001b[39mkwargs,\n\u001b[0;32m     92\u001b[0m ):\n\u001b[1;32m---> 93\u001b[0m     \u001b[39msuper\u001b[39m()\u001b[39m.\u001b[39m\u001b[39m__init__\u001b[39m(\n\u001b[0;32m     94\u001b[0m         vocab_file\u001b[39m=\u001b[39mvocab_file,\n\u001b[0;32m     95\u001b[0m         tokenizer_file\u001b[39m=\u001b[39mtokenizer_file,\n\u001b[0;32m     96\u001b[0m         clean_up_tokenization_spaces\u001b[39m=\u001b[39mclean_up_tokenization_spaces,\n\u001b[0;32m     97\u001b[0m         unk_token\u001b[39m=\u001b[39munk_token,\n\u001b[0;32m     98\u001b[0m         bos_token\u001b[39m=\u001b[39mbos_token,\n\u001b[0;32m     99\u001b[0m         eos_token\u001b[39m=\u001b[39meos_token,\n\u001b[0;32m    100\u001b[0m         \u001b[39m*\u001b[39m\u001b[39m*\u001b[39mkwargs,\n\u001b[0;32m    101\u001b[0m     )\n\u001b[0;32m    102\u001b[0m     \u001b[39mself\u001b[39m\u001b[39m.\u001b[39m_add_bos_token \u001b[39m=\u001b[39m add_bos_token\n\u001b[0;32m    103\u001b[0m     \u001b[39mself\u001b[39m\u001b[39m.\u001b[39m_add_eos_token \u001b[39m=\u001b[39m add_eos_token\n",
      "File \u001b[1;32mc:\\Users\\FELAB\\Desktop\\Python_venv\\.felab\\lib\\site-packages\\transformers\\tokenization_utils_fast.py:114\u001b[0m, in \u001b[0;36mPreTrainedTokenizerFast.__init__\u001b[1;34m(self, *args, **kwargs)\u001b[0m\n\u001b[0;32m    111\u001b[0m     fast_tokenizer \u001b[39m=\u001b[39m TokenizerFast\u001b[39m.\u001b[39mfrom_file(fast_tokenizer_file)\n\u001b[0;32m    112\u001b[0m \u001b[39melif\u001b[39;00m slow_tokenizer \u001b[39mis\u001b[39;00m \u001b[39mnot\u001b[39;00m \u001b[39mNone\u001b[39;00m:\n\u001b[0;32m    113\u001b[0m     \u001b[39m# We need to convert a slow tokenizer to build the backend\u001b[39;00m\n\u001b[1;32m--> 114\u001b[0m     fast_tokenizer \u001b[39m=\u001b[39m convert_slow_tokenizer(slow_tokenizer)\n\u001b[0;32m    115\u001b[0m \u001b[39melif\u001b[39;00m \u001b[39mself\u001b[39m\u001b[39m.\u001b[39mslow_tokenizer_class \u001b[39mis\u001b[39;00m \u001b[39mnot\u001b[39;00m \u001b[39mNone\u001b[39;00m:\n\u001b[0;32m    116\u001b[0m     \u001b[39m# We need to create and convert a slow tokenizer to build the backend\u001b[39;00m\n\u001b[0;32m    117\u001b[0m     slow_tokenizer \u001b[39m=\u001b[39m \u001b[39mself\u001b[39m\u001b[39m.\u001b[39mslow_tokenizer_class(\u001b[39m*\u001b[39margs, \u001b[39m*\u001b[39m\u001b[39m*\u001b[39mkwargs)\n",
      "File \u001b[1;32mc:\\Users\\FELAB\\Desktop\\Python_venv\\.felab\\lib\\site-packages\\transformers\\convert_slow_tokenizer.py:1307\u001b[0m, in \u001b[0;36mconvert_slow_tokenizer\u001b[1;34m(transformer_tokenizer)\u001b[0m\n\u001b[0;32m   1299\u001b[0m     \u001b[39mraise\u001b[39;00m \u001b[39mValueError\u001b[39;00m(\n\u001b[0;32m   1300\u001b[0m         \u001b[39mf\u001b[39m\u001b[39m\"\u001b[39m\u001b[39mAn instance of tokenizer class \u001b[39m\u001b[39m{\u001b[39;00mtokenizer_class_name\u001b[39m}\u001b[39;00m\u001b[39m cannot be converted in a Fast tokenizer instance.\u001b[39m\u001b[39m\"\u001b[39m\n\u001b[0;32m   1301\u001b[0m         \u001b[39m\"\u001b[39m\u001b[39m No converter was found. Currently available slow->fast convertors:\u001b[39m\u001b[39m\"\u001b[39m\n\u001b[0;32m   1302\u001b[0m         \u001b[39mf\u001b[39m\u001b[39m\"\u001b[39m\u001b[39m \u001b[39m\u001b[39m{\u001b[39;00m\u001b[39mlist\u001b[39m(SLOW_TO_FAST_CONVERTERS\u001b[39m.\u001b[39mkeys())\u001b[39m}\u001b[39;00m\u001b[39m\"\u001b[39m\n\u001b[0;32m   1303\u001b[0m     )\n\u001b[0;32m   1305\u001b[0m converter_class \u001b[39m=\u001b[39m SLOW_TO_FAST_CONVERTERS[tokenizer_class_name]\n\u001b[1;32m-> 1307\u001b[0m \u001b[39mreturn\u001b[39;00m converter_class(transformer_tokenizer)\u001b[39m.\u001b[39mconverted()\n",
      "File \u001b[1;32mc:\\Users\\FELAB\\Desktop\\Python_venv\\.felab\\lib\\site-packages\\transformers\\convert_slow_tokenizer.py:445\u001b[0m, in \u001b[0;36mSpmConverter.__init__\u001b[1;34m(self, *args)\u001b[0m\n\u001b[0;32m    441\u001b[0m requires_backends(\u001b[39mself\u001b[39m, \u001b[39m\"\u001b[39m\u001b[39mprotobuf\u001b[39m\u001b[39m\"\u001b[39m)\n\u001b[0;32m    443\u001b[0m \u001b[39msuper\u001b[39m()\u001b[39m.\u001b[39m\u001b[39m__init__\u001b[39m(\u001b[39m*\u001b[39margs)\n\u001b[1;32m--> 445\u001b[0m \u001b[39mfrom\u001b[39;00m \u001b[39m.\u001b[39;00m\u001b[39mutils\u001b[39;00m \u001b[39mimport\u001b[39;00m sentencepiece_model_pb2 \u001b[39mas\u001b[39;00m model_pb2\n\u001b[0;32m    447\u001b[0m m \u001b[39m=\u001b[39m model_pb2\u001b[39m.\u001b[39mModelProto()\n\u001b[0;32m    448\u001b[0m \u001b[39mwith\u001b[39;00m \u001b[39mopen\u001b[39m(\u001b[39mself\u001b[39m\u001b[39m.\u001b[39moriginal_tokenizer\u001b[39m.\u001b[39mvocab_file, \u001b[39m\"\u001b[39m\u001b[39mrb\u001b[39m\u001b[39m\"\u001b[39m) \u001b[39mas\u001b[39;00m f:\n",
      "File \u001b[1;32mc:\\Users\\FELAB\\Desktop\\Python_venv\\.felab\\lib\\site-packages\\transformers\\utils\\sentencepiece_model_pb2.py:91\u001b[0m\n\u001b[0;32m     25\u001b[0m _sym_db \u001b[39m=\u001b[39m _symbol_database\u001b[39m.\u001b[39mDefault()\n\u001b[0;32m     28\u001b[0m DESCRIPTOR \u001b[39m=\u001b[39m _descriptor\u001b[39m.\u001b[39mFileDescriptor(\n\u001b[0;32m     29\u001b[0m     name\u001b[39m=\u001b[39m\u001b[39m\"\u001b[39m\u001b[39msentencepiece_model.proto\u001b[39m\u001b[39m\"\u001b[39m,\n\u001b[0;32m     30\u001b[0m     package\u001b[39m=\u001b[39m\u001b[39m\"\u001b[39m\u001b[39msentencepiece\u001b[39m\u001b[39m\"\u001b[39m,\n\u001b[1;32m   (...)\u001b[0m\n\u001b[0;32m     80\u001b[0m     ),\n\u001b[0;32m     81\u001b[0m )\n\u001b[0;32m     84\u001b[0m _TRAINERSPEC_MODELTYPE \u001b[39m=\u001b[39m _descriptor\u001b[39m.\u001b[39mEnumDescriptor(\n\u001b[0;32m     85\u001b[0m     name\u001b[39m=\u001b[39m\u001b[39m\"\u001b[39m\u001b[39mModelType\u001b[39m\u001b[39m\"\u001b[39m,\n\u001b[0;32m     86\u001b[0m     full_name\u001b[39m=\u001b[39m\u001b[39m\"\u001b[39m\u001b[39msentencepiece.TrainerSpec.ModelType\u001b[39m\u001b[39m\"\u001b[39m,\n\u001b[0;32m     87\u001b[0m     filename\u001b[39m=\u001b[39m\u001b[39mNone\u001b[39;00m,\n\u001b[0;32m     88\u001b[0m     file\u001b[39m=\u001b[39mDESCRIPTOR,\n\u001b[0;32m     89\u001b[0m     create_key\u001b[39m=\u001b[39m_descriptor\u001b[39m.\u001b[39m_internal_create_key,\n\u001b[0;32m     90\u001b[0m     values\u001b[39m=\u001b[39m[\n\u001b[1;32m---> 91\u001b[0m         _descriptor\u001b[39m.\u001b[39;49mEnumValueDescriptor(\n\u001b[0;32m     92\u001b[0m             name\u001b[39m=\u001b[39;49m\u001b[39m\"\u001b[39;49m\u001b[39mUNIGRAM\u001b[39;49m\u001b[39m\"\u001b[39;49m,\n\u001b[0;32m     93\u001b[0m             index\u001b[39m=\u001b[39;49m\u001b[39m0\u001b[39;49m,\n\u001b[0;32m     94\u001b[0m             number\u001b[39m=\u001b[39;49m\u001b[39m1\u001b[39;49m,\n\u001b[0;32m     95\u001b[0m             serialized_options\u001b[39m=\u001b[39;49m\u001b[39mNone\u001b[39;49;00m,\n\u001b[0;32m     96\u001b[0m             \u001b[39mtype\u001b[39;49m\u001b[39m=\u001b[39;49m\u001b[39mNone\u001b[39;49;00m,\n\u001b[0;32m     97\u001b[0m             create_key\u001b[39m=\u001b[39;49m_descriptor\u001b[39m.\u001b[39;49m_internal_create_key,\n\u001b[0;32m     98\u001b[0m         ),\n\u001b[0;32m     99\u001b[0m         _descriptor\u001b[39m.\u001b[39mEnumValueDescriptor(\n\u001b[0;32m    100\u001b[0m             name\u001b[39m=\u001b[39m\u001b[39m\"\u001b[39m\u001b[39mBPE\u001b[39m\u001b[39m\"\u001b[39m,\n\u001b[0;32m    101\u001b[0m             index\u001b[39m=\u001b[39m\u001b[39m1\u001b[39m,\n\u001b[0;32m    102\u001b[0m             number\u001b[39m=\u001b[39m\u001b[39m2\u001b[39m,\n\u001b[0;32m    103\u001b[0m             serialized_options\u001b[39m=\u001b[39m\u001b[39mNone\u001b[39;00m,\n\u001b[0;32m    104\u001b[0m             \u001b[39mtype\u001b[39m\u001b[39m=\u001b[39m\u001b[39mNone\u001b[39;00m,\n\u001b[0;32m    105\u001b[0m             create_key\u001b[39m=\u001b[39m_descriptor\u001b[39m.\u001b[39m_internal_create_key,\n\u001b[0;32m    106\u001b[0m         ),\n\u001b[0;32m    107\u001b[0m         _descriptor\u001b[39m.\u001b[39mEnumValueDescriptor(\n\u001b[0;32m    108\u001b[0m             name\u001b[39m=\u001b[39m\u001b[39m\"\u001b[39m\u001b[39mWORD\u001b[39m\u001b[39m\"\u001b[39m,\n\u001b[0;32m    109\u001b[0m             index\u001b[39m=\u001b[39m\u001b[39m2\u001b[39m,\n\u001b[0;32m    110\u001b[0m             number\u001b[39m=\u001b[39m\u001b[39m3\u001b[39m,\n\u001b[0;32m    111\u001b[0m             serialized_options\u001b[39m=\u001b[39m\u001b[39mNone\u001b[39;00m,\n\u001b[0;32m    112\u001b[0m             \u001b[39mtype\u001b[39m\u001b[39m=\u001b[39m\u001b[39mNone\u001b[39;00m,\n\u001b[0;32m    113\u001b[0m             create_key\u001b[39m=\u001b[39m_descriptor\u001b[39m.\u001b[39m_internal_create_key,\n\u001b[0;32m    114\u001b[0m         ),\n\u001b[0;32m    115\u001b[0m         _descriptor\u001b[39m.\u001b[39mEnumValueDescriptor(\n\u001b[0;32m    116\u001b[0m             name\u001b[39m=\u001b[39m\u001b[39m\"\u001b[39m\u001b[39mCHAR\u001b[39m\u001b[39m\"\u001b[39m,\n\u001b[0;32m    117\u001b[0m             index\u001b[39m=\u001b[39m\u001b[39m3\u001b[39m,\n\u001b[0;32m    118\u001b[0m             number\u001b[39m=\u001b[39m\u001b[39m4\u001b[39m,\n\u001b[0;32m    119\u001b[0m             serialized_options\u001b[39m=\u001b[39m\u001b[39mNone\u001b[39;00m,\n\u001b[0;32m    120\u001b[0m             \u001b[39mtype\u001b[39m\u001b[39m=\u001b[39m\u001b[39mNone\u001b[39;00m,\n\u001b[0;32m    121\u001b[0m             create_key\u001b[39m=\u001b[39m_descriptor\u001b[39m.\u001b[39m_internal_create_key,\n\u001b[0;32m    122\u001b[0m         ),\n\u001b[0;32m    123\u001b[0m     ],\n\u001b[0;32m    124\u001b[0m     containing_type\u001b[39m=\u001b[39m\u001b[39mNone\u001b[39;00m,\n\u001b[0;32m    125\u001b[0m     serialized_options\u001b[39m=\u001b[39m\u001b[39mNone\u001b[39;00m,\n\u001b[0;32m    126\u001b[0m     serialized_start\u001b[39m=\u001b[39m\u001b[39m1294\u001b[39m,\n\u001b[0;32m    127\u001b[0m     serialized_end\u001b[39m=\u001b[39m\u001b[39m1347\u001b[39m,\n\u001b[0;32m    128\u001b[0m )\n\u001b[0;32m    129\u001b[0m _sym_db\u001b[39m.\u001b[39mRegisterEnumDescriptor(_TRAINERSPEC_MODELTYPE)\n\u001b[0;32m    131\u001b[0m _MODELPROTO_SENTENCEPIECE_TYPE \u001b[39m=\u001b[39m _descriptor\u001b[39m.\u001b[39mEnumDescriptor(\n\u001b[0;32m    132\u001b[0m     name\u001b[39m=\u001b[39m\u001b[39m\"\u001b[39m\u001b[39mType\u001b[39m\u001b[39m\"\u001b[39m,\n\u001b[0;32m    133\u001b[0m     full_name\u001b[39m=\u001b[39m\u001b[39m\"\u001b[39m\u001b[39msentencepiece.ModelProto.SentencePiece.Type\u001b[39m\u001b[39m\"\u001b[39m,\n\u001b[1;32m   (...)\u001b[0m\n\u001b[0;32m    190\u001b[0m     serialized_end\u001b[39m=\u001b[39m\u001b[39m2184\u001b[39m,\n\u001b[0;32m    191\u001b[0m )\n",
      "File \u001b[1;32mc:\\Users\\FELAB\\Desktop\\Python_venv\\.felab\\lib\\site-packages\\google\\protobuf\\descriptor.py:796\u001b[0m, in \u001b[0;36mEnumValueDescriptor.__new__\u001b[1;34m(cls, name, index, number, type, options, serialized_options, create_key)\u001b[0m\n\u001b[0;32m    793\u001b[0m \u001b[39mdef\u001b[39;00m \u001b[39m__new__\u001b[39m(\u001b[39mcls\u001b[39m, name, index, number,\n\u001b[0;32m    794\u001b[0m             \u001b[39mtype\u001b[39m\u001b[39m=\u001b[39m\u001b[39mNone\u001b[39;00m,  \u001b[39m# pylint: disable=redefined-builtin\u001b[39;00m\n\u001b[0;32m    795\u001b[0m             options\u001b[39m=\u001b[39m\u001b[39mNone\u001b[39;00m, serialized_options\u001b[39m=\u001b[39m\u001b[39mNone\u001b[39;00m, create_key\u001b[39m=\u001b[39m\u001b[39mNone\u001b[39;00m):\n\u001b[1;32m--> 796\u001b[0m   _message\u001b[39m.\u001b[39;49mMessage\u001b[39m.\u001b[39;49m_CheckCalledFromGeneratedFile()\n\u001b[0;32m    797\u001b[0m   \u001b[39m# There is no way we can build a complete EnumValueDescriptor with the\u001b[39;00m\n\u001b[0;32m    798\u001b[0m   \u001b[39m# given parameters (the name of the Enum is not known, for example).\u001b[39;00m\n\u001b[0;32m    799\u001b[0m   \u001b[39m# Fortunately generated files just pass it to the EnumDescriptor()\u001b[39;00m\n\u001b[0;32m    800\u001b[0m   \u001b[39m# constructor, which will ignore it, so returning None is good enough.\u001b[39;00m\n\u001b[0;32m    801\u001b[0m   \u001b[39mreturn\u001b[39;00m \u001b[39mNone\u001b[39;00m\n",
      "\u001b[1;31mTypeError\u001b[0m: Descriptors cannot not be created directly.\nIf this call came from a _pb2.py file, your generated code is out of date and must be regenerated with protoc >= 3.19.0.\nIf you cannot immediately regenerate your protos, some other possible workarounds are:\n 1. Downgrade the protobuf package to 3.20.x or lower.\n 2. Set PROTOCOL_BUFFERS_PYTHON_IMPLEMENTATION=python (but this will use pure-Python parsing and will be much slower).\n\nMore information: https://developers.google.com/protocol-buffers/docs/news/2022-05-06#python-updates"
     ]
    }
   ],
   "source": [
    "# Load Models\n",
    "base_model = \"NousResearch/Llama-2-13b-hf\"\n",
    "peft_model = \"FinGPT/fingpt-sentiment_llama2-13b_lora\"\n",
    "tokenizer = LlamaTokenizerFast.from_pretrained(base_model, trust_remote_code=True)\n",
    "tokenizer.pad_token = tokenizer.eos_token\n",
    "model = LlamaForCausalLM.from_pretrained(base_model, trust_remote_code=True, device_map = \"cuda:0\", load_in_8bit = True,)\n",
    "model = PeftModel.from_pretrained(model, peft_model)\n",
    "model = model.eval()"
   ]
  },
  {
   "cell_type": "code",
   "execution_count": 6,
   "metadata": {},
   "outputs": [
    {
     "name": "stdout",
     "output_type": "stream",
     "text": [
      "^C\n"
     ]
    }
   ],
   "source": [
    "!pip uninstall transformers==4.32.0 peft==0.5.0\n",
    "!pip uninstall sentencepiece\n",
    "!pip uninstall accelerate\n",
    "!pip uninstall torch\n",
    "!pip uninstall peft\n",
    "!pip uninstall datasets\n",
    "!pip uninstall bitsandbytes"
   ]
  },
  {
   "cell_type": "code",
   "execution_count": null,
   "metadata": {},
   "outputs": [],
   "source": []
  }
 ],
 "metadata": {
  "kernelspec": {
   "display_name": ".felab",
   "language": "python",
   "name": ".felab"
  },
  "language_info": {
   "codemirror_mode": {
    "name": "ipython",
    "version": 3
   },
   "file_extension": ".py",
   "mimetype": "text/x-python",
   "name": "python",
   "nbconvert_exporter": "python",
   "pygments_lexer": "ipython3",
   "version": "3.10.11"
  }
 },
 "nbformat": 4,
 "nbformat_minor": 2
}
