{
 "cells": [
  {
   "cell_type": "code",
   "execution_count": null,
   "metadata": {},
   "outputs": [],
   "source": [
    "import pandas as pd\n",
    "import glob\n",
    "import os\n",
    "\n",
    "# 폴더 내의 .gz.parquet 파일을 검색합니다.\n",
    "files = glob.glob('*.gz.parquet')\n",
    "files"
   ]
  },
  {
   "cell_type": "code",
   "execution_count": 3,
   "metadata": {},
   "outputs": [
    {
     "name": "stderr",
     "output_type": "stream",
     "text": [
      "Processing files:   0%|          | 0/9 [00:00<?, ?it/s]"
     ]
    },
    {
     "name": "stdout",
     "output_type": "stream",
     "text": [
      "다 읽었다\n"
     ]
    },
    {
     "name": "stderr",
     "output_type": "stream",
     "text": [
      "Processing files:  11%|█         | 1/9 [00:00<00:06,  1.15it/s]"
     ]
    },
    {
     "name": "stdout",
     "output_type": "stream",
     "text": [
      "Saved exchangerate.parquet\n",
      "다 읽었다\n"
     ]
    },
    {
     "name": "stderr",
     "output_type": "stream",
     "text": [
      "Processing files:  22%|██▏       | 2/9 [00:03<00:14,  2.07s/it]"
     ]
    },
    {
     "name": "stdout",
     "output_type": "stream",
     "text": [
      "Saved ownership.parquet\n",
      "다 읽었다\n"
     ]
    },
    {
     "name": "stderr",
     "output_type": "stream",
     "text": [
      "Processing files:  33%|███▎      | 3/9 [00:15<00:40,  6.68s/it]"
     ]
    },
    {
     "name": "stdout",
     "output_type": "stream",
     "text": [
      "Saved estimates.parquet\n",
      "다 읽었다\n"
     ]
    },
    {
     "name": "stderr",
     "output_type": "stream",
     "text": [
      "Processing files:  44%|████▍     | 4/9 [00:17<00:22,  4.51s/it]"
     ]
    },
    {
     "name": "stdout",
     "output_type": "stream",
     "text": [
      "Saved professional.parquet\n",
      "다 읽었다\n",
      "Saved keydev.parquet\n"
     ]
    },
    {
     "name": "stderr",
     "output_type": "stream",
     "text": [
      "Processing files:  56%|█████▌    | 5/9 [00:36<00:39,  9.76s/it]"
     ]
    },
    {
     "name": "stdout",
     "output_type": "stream",
     "text": [
      "다 읽었다\n",
      "Saved company.parquet\n"
     ]
    },
    {
     "name": "stderr",
     "output_type": "stream",
     "text": [
      "Processing files: 100%|██████████| 9/9 [02:14<00:00, 14.93s/it]"
     ]
    },
    {
     "name": "stdout",
     "output_type": "stream",
     "text": [
      "The file market\\part-00000-tid-2679257485173306022-ebf58120-261f-486c-92af-e0b6cf6a33c5-14782-1-c000.gz.parquet is too large (1341743847 bytes). Skipping.\n",
      "The file financials\\part-00000-tid-3926431628187713411-a790f6d3-fba9-4590-86bb-309ca16e8e12-539-1-c000.gz.parquet is too large (2282087173 bytes). Skipping.\n",
      "The file transcript\\part-00000-tid-8297069538010164701-6b6a55d9-6263-40bd-811e-5da1c1553e6d-378-1-c000.gz.parquet is too large (2733575788 bytes). Skipping.\n"
     ]
    },
    {
     "name": "stderr",
     "output_type": "stream",
     "text": [
      "\n"
     ]
    }
   ],
   "source": [
    "import pandas as pd\n",
    "import glob\n",
    "import os\n",
    "import gc  \n",
    "from tqdm import tqdm\n",
    "\n",
    "def get_file_size(file):\n",
    "    return os.path.getsize(file)\n",
    "\n",
    "# 폴더 리스트\n",
    "folders = ['company', 'estimates', 'exchangerate', 'financials', 'keydev', \n",
    "           'market', 'ownership', 'professional', 'transcript']\n",
    "\n",
    "# 최대 파일 크기 설정 (예: 1GB)\n",
    "MAX_FILE_SIZE = 1 * 1024 * 1024 * 1024  # 이 값을 조정하여 최대 파일 크기를 설정할 수 있습니다.\n",
    "\n",
    "# 파일 리스트와 그 크기 가져오기\n",
    "files_with_size = []\n",
    "for folder in folders:\n",
    "    file = glob.glob(f'{folder}/*.gz.parquet')[0]\n",
    "    size = get_file_size(file)\n",
    "    files_with_size.append((folder, file, size))\n",
    "\n",
    "# 파일 크기 순으로 정렬\n",
    "files_with_size.sort(key=lambda x: x[2])\n",
    "\n",
    "# 각 파일을 처리\n",
    "for folder, file, size in tqdm(files_with_size, desc=\"Processing files\"):\n",
    "    # 파일 크기가 최대 크기보다 크면 건너뛰기\n",
    "    if size > MAX_FILE_SIZE:\n",
    "        print(f\"The file {file} is too large ({size} bytes). Skipping.\")\n",
    "        continue\n",
    "\n",
    "    # Parquet 파일명\n",
    "    parquet_filename = f\"{folder}.parquet\"\n",
    "\n",
    "    # 이미 해당 이름의 Parquet 파일이 존재하는 경우 건너뛰기\n",
    "    if os.path.exists(parquet_filename):\n",
    "        print(f\"{parquet_filename} already exists. Skipping.\")\n",
    "        continue\n",
    "    \n",
    "    # .gz.parquet 파일을 데이터프레임으로 읽기\n",
    "    df = pd.read_parquet(file)\n",
    "    print(f\"{folder} 파일 읽기 완료\")\n",
    "    \n",
    "    \n",
    "    # 데이터프레임을 Parquet 파일로 저장\n",
    "    df.to_parquet(parquet_filename)\n",
    "    print(f\"Saved {parquet_filename}\")\n",
    "    \n",
    "    # 메모리 해제\n",
    "    del df\n",
    "    \n",
    "    # 가비지 컬렉션 실행\n",
    "    gc.collect()\n"
   ]
  },
  {
   "cell_type": "code",
   "execution_count": 1,
   "metadata": {},
   "outputs": [],
   "source": [
    "import pandas as pd\n",
    "import numpy as np\n",
    "import pyarrow\n",
    "import gc\n",
    "import time\n",
    "import glob\n",
    "import sys\n",
    "import humanize\n",
    "import math\n",
    "import psutil\n",
    "import gc\n",
    "import simplejson\n",
    "import skimage\n",
    "import skimage.measure\n",
    "from timeit import timeit\n",
    "from time import sleep\n",
    "from pyarrow.parquet import ParquetFile\n",
    "import pyarrow\n",
    "import pyarrow.parquet as pq\n",
    "import signal\n",
    "from contextlib import contextmanager\n",
    "\n",
    "pd.set_option('display.max_columns',   500)\n",
    "pd.set_option('display.max_colwidth',  None)"
   ]
  },
  {
   "cell_type": "code",
   "execution_count": 6,
   "metadata": {},
   "outputs": [
    {
     "name": "stderr",
     "output_type": "stream",
     "text": [
      "Processing columns:   0%|          | 0/24 [00:00<?, ?it/s]"
     ]
    },
    {
     "name": "stderr",
     "output_type": "stream",
     "text": [
      "Processing columns:   4%|▍         | 1/24 [00:00<00:15,  1.52it/s]"
     ]
    },
    {
     "name": "stdout",
     "output_type": "stream",
     "text": [
      "Completed column: companyId\n",
      "Memory usage: 256.19 MB\n",
      "Time taken: 0.61 seconds\n",
      "======================================\n"
     ]
    },
    {
     "name": "stderr",
     "output_type": "stream",
     "text": [
      "Processing columns:   8%|▊         | 2/24 [00:12<02:34,  7.04s/it]"
     ]
    },
    {
     "name": "stdout",
     "output_type": "stream",
     "text": [
      "Completed column: companyName\n",
      "Memory usage: 258.80 MB\n",
      "Time taken: 11.45 seconds\n",
      "======================================\n"
     ]
    },
    {
     "name": "stderr",
     "output_type": "stream",
     "text": [
      "Processing columns:  12%|█▎        | 3/24 [00:21<02:48,  8.00s/it]"
     ]
    },
    {
     "name": "stdout",
     "output_type": "stream",
     "text": [
      "Completed column: tickerSymbol\n",
      "Memory usage: 258.39 MB\n",
      "Time taken: 9.11 seconds\n",
      "======================================\n"
     ]
    },
    {
     "name": "stderr",
     "output_type": "stream",
     "text": [
      "Processing columns:  17%|█▋        | 4/24 [00:29<02:44,  8.24s/it]"
     ]
    },
    {
     "name": "stdout",
     "output_type": "stream",
     "text": [
      "Completed column: exchangeSymbol\n",
      "Memory usage: 258.39 MB\n",
      "Time taken: 8.55 seconds\n",
      "======================================\n"
     ]
    },
    {
     "name": "stderr",
     "output_type": "stream",
     "text": [
      "Processing columns:  21%|██        | 5/24 [00:38<02:41,  8.50s/it]"
     ]
    },
    {
     "name": "stdout",
     "output_type": "stream",
     "text": [
      "Completed column: ISOCode\n",
      "Memory usage: 259.37 MB\n",
      "Time taken: 8.90 seconds\n",
      "======================================\n"
     ]
    },
    {
     "name": "stderr",
     "output_type": "stream",
     "text": [
      "Processing columns:  25%|██▌       | 6/24 [00:39<01:45,  5.84s/it]"
     ]
    },
    {
     "name": "stdout",
     "output_type": "stream",
     "text": [
      "Completed column: pricingDate\n",
      "Memory usage: 258.66 MB\n",
      "Time taken: 0.65 seconds\n",
      "======================================\n"
     ]
    },
    {
     "name": "stderr",
     "output_type": "stream",
     "text": [
      "Processing columns:  29%|██▉       | 7/24 [00:40<01:10,  4.13s/it]"
     ]
    },
    {
     "name": "stdout",
     "output_type": "stream",
     "text": [
      "Completed column: exDate\n",
      "Memory usage: 258.66 MB\n",
      "Time taken: 0.55 seconds\n",
      "======================================\n"
     ]
    },
    {
     "name": "stderr",
     "output_type": "stream",
     "text": [
      "Processing columns:  33%|███▎      | 8/24 [00:40<00:48,  3.02s/it]"
     ]
    },
    {
     "name": "stdout",
     "output_type": "stream",
     "text": [
      "Completed column: payDate\n",
      "Memory usage: 258.66 MB\n",
      "Time taken: 0.58 seconds\n",
      "======================================\n"
     ]
    },
    {
     "name": "stderr",
     "output_type": "stream",
     "text": [
      "Processing columns:  38%|███▊      | 9/24 [00:41<00:34,  2.28s/it]"
     ]
    },
    {
     "name": "stdout",
     "output_type": "stream",
     "text": [
      "Completed column: recordDate\n",
      "Memory usage: 258.67 MB\n",
      "Time taken: 0.56 seconds\n",
      "======================================\n"
     ]
    },
    {
     "name": "stderr",
     "output_type": "stream",
     "text": [
      "Processing columns:  42%|████▏     | 10/24 [00:42<00:24,  1.77s/it]"
     ]
    },
    {
     "name": "stdout",
     "output_type": "stream",
     "text": [
      "Completed column: announcedDate\n",
      "Memory usage: 258.67 MB\n",
      "Time taken: 0.56 seconds\n",
      "======================================\n"
     ]
    },
    {
     "name": "stderr",
     "output_type": "stream",
     "text": [
      "Processing columns:  46%|████▌     | 11/24 [00:45<00:28,  2.22s/it]"
     ]
    },
    {
     "name": "stdout",
     "output_type": "stream",
     "text": [
      "Completed column: priceClose\n",
      "Memory usage: 276.93 MB\n",
      "Time taken: 3.20 seconds\n",
      "======================================\n"
     ]
    },
    {
     "name": "stderr",
     "output_type": "stream",
     "text": [
      "Processing columns:  50%|█████     | 12/24 [00:54<00:53,  4.48s/it]"
     ]
    },
    {
     "name": "stdout",
     "output_type": "stream",
     "text": [
      "Completed column: volume\n",
      "Memory usage: 327.05 MB\n",
      "Time taken: 9.60 seconds\n",
      "======================================\n"
     ]
    },
    {
     "name": "stderr",
     "output_type": "stream",
     "text": [
      "Processing columns:  54%|█████▍    | 13/24 [00:55<00:36,  3.35s/it]"
     ]
    },
    {
     "name": "stdout",
     "output_type": "stream",
     "text": [
      "Completed column: adjustmentFactor\n",
      "Memory usage: 258.93 MB\n",
      "Time taken: 0.70 seconds\n",
      "======================================\n"
     ]
    },
    {
     "name": "stderr",
     "output_type": "stream",
     "text": [
      "Processing columns:  58%|█████▊    | 14/24 [01:06<00:54,  5.50s/it]"
     ]
    },
    {
     "name": "stdout",
     "output_type": "stream",
     "text": [
      "Completed column: VWAP\n",
      "Memory usage: 330.53 MB\n",
      "Time taken: 10.39 seconds\n",
      "======================================\n"
     ]
    },
    {
     "name": "stderr",
     "output_type": "stream",
     "text": [
      "Processing columns:  62%|██████▎   | 15/24 [01:07<00:37,  4.19s/it]"
     ]
    },
    {
     "name": "stdout",
     "output_type": "stream",
     "text": [
      "Completed column: divAdjFactor\n",
      "Memory usage: 262.26 MB\n",
      "Time taken: 1.11 seconds\n",
      "======================================\n"
     ]
    },
    {
     "name": "stderr",
     "output_type": "stream",
     "text": [
      "Processing columns:  67%|██████▋   | 16/24 [01:43<01:50, 13.82s/it]"
     ]
    },
    {
     "name": "stdout",
     "output_type": "stream",
     "text": [
      "Completed column: marketCap\n",
      "Memory usage: 560.68 MB\n",
      "Time taken: 36.13 seconds\n",
      "======================================\n"
     ]
    },
    {
     "name": "stderr",
     "output_type": "stream",
     "text": [
      "Processing columns:  71%|███████   | 17/24 [02:22<02:29, 21.38s/it]"
     ]
    },
    {
     "name": "stdout",
     "output_type": "stream",
     "text": [
      "Completed column: TEV\n",
      "Memory usage: 577.32 MB\n",
      "Time taken: 38.88 seconds\n",
      "======================================\n"
     ]
    },
    {
     "name": "stderr",
     "output_type": "stream",
     "text": [
      "Processing columns:  75%|███████▌  | 18/24 [02:24<01:32, 15.49s/it]"
     ]
    },
    {
     "name": "stdout",
     "output_type": "stream",
     "text": [
      "Completed column: sharesOutstanding\n",
      "Memory usage: 268.50 MB\n",
      "Time taken: 1.73 seconds\n",
      "======================================\n"
     ]
    },
    {
     "name": "stderr",
     "output_type": "stream",
     "text": [
      "Processing columns:  79%|███████▉  | 19/24 [02:28<00:59, 12.00s/it]"
     ]
    },
    {
     "name": "stdout",
     "output_type": "stream",
     "text": [
      "Completed column: divFreqTypeName\n",
      "Memory usage: 259.45 MB\n",
      "Time taken: 3.79 seconds\n",
      "======================================\n"
     ]
    },
    {
     "name": "stderr",
     "output_type": "stream",
     "text": [
      "Processing columns:  83%|████████▎ | 20/24 [02:32<00:38,  9.58s/it]"
     ]
    },
    {
     "name": "stdout",
     "output_type": "stream",
     "text": [
      "Completed column: supplementalTypeName\n",
      "Memory usage: 261.26 MB\n",
      "Time taken: 3.89 seconds\n",
      "======================================\n"
     ]
    },
    {
     "name": "stderr",
     "output_type": "stream",
     "text": [
      "Processing columns:  88%|████████▊ | 21/24 [02:35<00:23,  7.88s/it]"
     ]
    },
    {
     "name": "stdout",
     "output_type": "stream",
     "text": [
      "Completed column: dividendTypeName\n",
      "Memory usage: 260.45 MB\n",
      "Time taken: 3.85 seconds\n",
      "======================================\n"
     ]
    },
    {
     "name": "stderr",
     "output_type": "stream",
     "text": [
      "Processing columns:  92%|█████████▏| 22/24 [02:36<00:11,  5.76s/it]"
     ]
    },
    {
     "name": "stdout",
     "output_type": "stream",
     "text": [
      "Completed column: divAmount\n",
      "Memory usage: 262.43 MB\n",
      "Time taken: 0.77 seconds\n",
      "======================================\n"
     ]
    },
    {
     "name": "stderr",
     "output_type": "stream",
     "text": [
      "Processing columns:  96%|█████████▌| 23/24 [02:37<00:04,  4.26s/it]"
     ]
    },
    {
     "name": "stdout",
     "output_type": "stream",
     "text": [
      "Completed column: netAmount\n",
      "Memory usage: 261.52 MB\n",
      "Time taken: 0.72 seconds\n",
      "======================================\n"
     ]
    },
    {
     "name": "stderr",
     "output_type": "stream",
     "text": [
      "Processing columns: 100%|██████████| 24/24 [02:38<00:00,  6.60s/it]"
     ]
    },
    {
     "name": "stdout",
     "output_type": "stream",
     "text": [
      "Completed column: grossAmount\n",
      "Memory usage: 262.33 MB\n",
      "Time taken: 0.77 seconds\n",
      "======================================\n",
      "Total time taken for all columns: 158.43 seconds\n"
     ]
    },
    {
     "name": "stderr",
     "output_type": "stream",
     "text": [
      "\n"
     ]
    }
   ],
   "source": [
    "import os\n",
    "import dask.dataframe as dd\n",
    "import time\n",
    "import psutil\n",
    "import gc\n",
    "from tqdm import tqdm\n",
    "\n",
    "# 현재 메모리 사용량을 반환하는 함수\n",
    "def get_memory_usage():\n",
    "    return psutil.Process().memory_info().rss / 1024**2  # MB 단위\n",
    "\n",
    "# 파일 이름에서 확장자를 제외한 이름 추출\n",
    "file_path = \"transcript.parquet\"\n",
    "base_name = os.path.basename(file_path)\n",
    "folder_name, _ = os.path.splitext(base_name)\n",
    "\n",
    "# 해당 이름으로 폴더 생성\n",
    "if not os.path.exists(folder_name):\n",
    "    os.makedirs(folder_name)\n",
    "\n",
    "# Dask로 데이터의 열 정보만 불러오기\n",
    "df_meta = dd.read_parquet(file_path, engine='fastparquet')\n",
    "\n",
    "overall_start_time = time.time()  # 전체 작업 시작 시간 저장\n",
    "\n",
    "# 각 열에 대해 고유한 값들을 계산하고 파일로 저장 (tqdm으로 진행률 표시)\n",
    "for column in tqdm(df_meta.columns, desc=\"Processing columns\"):\n",
    "    start_time = time.time()  # 해당 열 처리 시작 시간 저장\n",
    "    \n",
    "    # 해당 열만 불러오기\n",
    "    df_column = dd.read_parquet(file_path, columns=[column], engine='fastparquet')\n",
    "    \n",
    "    # 해당 열의 고유한 값들을 계산\n",
    "    unique_values = df_column[column].unique().compute()\n",
    "    \n",
    "    # 고유한 값들을 폴더 내 파일로 저장\n",
    "    filename = os.path.join(folder_name, f\"unique_{folder_name}_{column}.csv\")\n",
    "    unique_values.to_csv(filename, index=False)\n",
    "    \n",
    "    elapsed_time = time.time() - start_time  # 해당 열 처리 소요 시간 계산\n",
    "    memory_usage = get_memory_usage()  # 현재 메모리 사용량\n",
    "    \n",
    "    print(f\"Completed column: {column}\")\n",
    "    print(f\"Memory usage: {memory_usage:.2f} MB\")\n",
    "    print(f\"Time taken: {elapsed_time:.2f} seconds\")\n",
    "    print(\"======================================\")\n",
    "    \n",
    "    # 메모리 정리\n",
    "    del df_column, unique_values\n",
    "    gc.collect()  # 가비지 콜렉션 수행\n",
    "\n",
    "overall_elapsed_time = time.time() - overall_start_time  # 전체 작업 소요 시간 계산\n",
    "print(f\"Total time taken for all columns: {overall_elapsed_time:.2f} seconds\")"
   ]
  },
  {
   "cell_type": "markdown",
   "metadata": {},
   "source": [
    "# Groupby"
   ]
  },
  {
   "cell_type": "code",
   "execution_count": 2,
   "metadata": {},
   "outputs": [
    {
     "data": {
      "text/html": [
       "<div>\n",
       "    <div style=\"width: 24px; height: 24px; background-color: #e1e1e1; border: 3px solid #9D9D9D; border-radius: 5px; position: absolute;\"> </div>\n",
       "    <div style=\"margin-left: 48px;\">\n",
       "        <h3 style=\"margin-bottom: 0px;\">Client</h3>\n",
       "        <p style=\"color: #9D9D9D; margin-bottom: 0px;\">Client-8b15cd48-78bb-11ee-a074-f0a654f40776</p>\n",
       "        <table style=\"width: 100%; text-align: left;\">\n",
       "\n",
       "        <tr>\n",
       "        \n",
       "            <td style=\"text-align: left;\"><strong>Connection method:</strong> Cluster object</td>\n",
       "            <td style=\"text-align: left;\"><strong>Cluster type:</strong> distributed.LocalCluster</td>\n",
       "        \n",
       "        </tr>\n",
       "\n",
       "        \n",
       "            <tr>\n",
       "                <td style=\"text-align: left;\">\n",
       "                    <strong>Dashboard: </strong> <a href=\"http://127.0.0.1:8787/status\" target=\"_blank\">http://127.0.0.1:8787/status</a>\n",
       "                </td>\n",
       "                <td style=\"text-align: left;\"></td>\n",
       "            </tr>\n",
       "        \n",
       "\n",
       "        </table>\n",
       "\n",
       "        \n",
       "\n",
       "        \n",
       "            <details>\n",
       "            <summary style=\"margin-bottom: 20px;\"><h3 style=\"display: inline;\">Cluster Info</h3></summary>\n",
       "            <div class=\"jp-RenderedHTMLCommon jp-RenderedHTML jp-mod-trusted jp-OutputArea-output\">\n",
       "    <div style=\"width: 24px; height: 24px; background-color: #e1e1e1; border: 3px solid #9D9D9D; border-radius: 5px; position: absolute;\">\n",
       "    </div>\n",
       "    <div style=\"margin-left: 48px;\">\n",
       "        <h3 style=\"margin-bottom: 0px; margin-top: 0px;\">LocalCluster</h3>\n",
       "        <p style=\"color: #9D9D9D; margin-bottom: 0px;\">f8fdb81f</p>\n",
       "        <table style=\"width: 100%; text-align: left;\">\n",
       "            <tr>\n",
       "                <td style=\"text-align: left;\">\n",
       "                    <strong>Dashboard:</strong> <a href=\"http://127.0.0.1:8787/status\" target=\"_blank\">http://127.0.0.1:8787/status</a>\n",
       "                </td>\n",
       "                <td style=\"text-align: left;\">\n",
       "                    <strong>Workers:</strong> 8\n",
       "                </td>\n",
       "            </tr>\n",
       "            <tr>\n",
       "                <td style=\"text-align: left;\">\n",
       "                    <strong>Total threads:</strong> 32\n",
       "                </td>\n",
       "                <td style=\"text-align: left;\">\n",
       "                    <strong>Total memory:</strong> 31.15 GiB\n",
       "                </td>\n",
       "            </tr>\n",
       "            \n",
       "            <tr>\n",
       "    <td style=\"text-align: left;\"><strong>Status:</strong> running</td>\n",
       "    <td style=\"text-align: left;\"><strong>Using processes:</strong> True</td>\n",
       "</tr>\n",
       "\n",
       "            \n",
       "        </table>\n",
       "\n",
       "        <details>\n",
       "            <summary style=\"margin-bottom: 20px;\">\n",
       "                <h3 style=\"display: inline;\">Scheduler Info</h3>\n",
       "            </summary>\n",
       "\n",
       "            <div style=\"\">\n",
       "    <div>\n",
       "        <div style=\"width: 24px; height: 24px; background-color: #FFF7E5; border: 3px solid #FF6132; border-radius: 5px; position: absolute;\"> </div>\n",
       "        <div style=\"margin-left: 48px;\">\n",
       "            <h3 style=\"margin-bottom: 0px;\">Scheduler</h3>\n",
       "            <p style=\"color: #9D9D9D; margin-bottom: 0px;\">Scheduler-26623414-a42e-4683-acd6-c3a99a55a32c</p>\n",
       "            <table style=\"width: 100%; text-align: left;\">\n",
       "                <tr>\n",
       "                    <td style=\"text-align: left;\">\n",
       "                        <strong>Comm:</strong> tcp://127.0.0.1:5335\n",
       "                    </td>\n",
       "                    <td style=\"text-align: left;\">\n",
       "                        <strong>Workers:</strong> 8\n",
       "                    </td>\n",
       "                </tr>\n",
       "                <tr>\n",
       "                    <td style=\"text-align: left;\">\n",
       "                        <strong>Dashboard:</strong> <a href=\"http://127.0.0.1:8787/status\" target=\"_blank\">http://127.0.0.1:8787/status</a>\n",
       "                    </td>\n",
       "                    <td style=\"text-align: left;\">\n",
       "                        <strong>Total threads:</strong> 32\n",
       "                    </td>\n",
       "                </tr>\n",
       "                <tr>\n",
       "                    <td style=\"text-align: left;\">\n",
       "                        <strong>Started:</strong> Just now\n",
       "                    </td>\n",
       "                    <td style=\"text-align: left;\">\n",
       "                        <strong>Total memory:</strong> 31.15 GiB\n",
       "                    </td>\n",
       "                </tr>\n",
       "            </table>\n",
       "        </div>\n",
       "    </div>\n",
       "\n",
       "    <details style=\"margin-left: 48px;\">\n",
       "        <summary style=\"margin-bottom: 20px;\">\n",
       "            <h3 style=\"display: inline;\">Workers</h3>\n",
       "        </summary>\n",
       "\n",
       "        \n",
       "        <div style=\"margin-bottom: 20px;\">\n",
       "            <div style=\"width: 24px; height: 24px; background-color: #DBF5FF; border: 3px solid #4CC9FF; border-radius: 5px; position: absolute;\"> </div>\n",
       "            <div style=\"margin-left: 48px;\">\n",
       "            <details>\n",
       "                <summary>\n",
       "                    <h4 style=\"margin-bottom: 0px; display: inline;\">Worker: 0</h4>\n",
       "                </summary>\n",
       "                <table style=\"width: 100%; text-align: left;\">\n",
       "                    <tr>\n",
       "                        <td style=\"text-align: left;\">\n",
       "                            <strong>Comm: </strong> tcp://127.0.0.1:5390\n",
       "                        </td>\n",
       "                        <td style=\"text-align: left;\">\n",
       "                            <strong>Total threads: </strong> 4\n",
       "                        </td>\n",
       "                    </tr>\n",
       "                    <tr>\n",
       "                        <td style=\"text-align: left;\">\n",
       "                            <strong>Dashboard: </strong> <a href=\"http://127.0.0.1:5393/status\" target=\"_blank\">http://127.0.0.1:5393/status</a>\n",
       "                        </td>\n",
       "                        <td style=\"text-align: left;\">\n",
       "                            <strong>Memory: </strong> 3.89 GiB\n",
       "                        </td>\n",
       "                    </tr>\n",
       "                    <tr>\n",
       "                        <td style=\"text-align: left;\">\n",
       "                            <strong>Nanny: </strong> tcp://127.0.0.1:5338\n",
       "                        </td>\n",
       "                        <td style=\"text-align: left;\"></td>\n",
       "                    </tr>\n",
       "                    <tr>\n",
       "                        <td colspan=\"2\" style=\"text-align: left;\">\n",
       "                            <strong>Local directory: </strong> C:\\Users\\FELAB\\AppData\\Local\\Temp\\dask-scratch-space\\worker-ki7noho2\n",
       "                        </td>\n",
       "                    </tr>\n",
       "\n",
       "                    \n",
       "\n",
       "                    \n",
       "\n",
       "                </table>\n",
       "            </details>\n",
       "            </div>\n",
       "        </div>\n",
       "        \n",
       "        <div style=\"margin-bottom: 20px;\">\n",
       "            <div style=\"width: 24px; height: 24px; background-color: #DBF5FF; border: 3px solid #4CC9FF; border-radius: 5px; position: absolute;\"> </div>\n",
       "            <div style=\"margin-left: 48px;\">\n",
       "            <details>\n",
       "                <summary>\n",
       "                    <h4 style=\"margin-bottom: 0px; display: inline;\">Worker: 1</h4>\n",
       "                </summary>\n",
       "                <table style=\"width: 100%; text-align: left;\">\n",
       "                    <tr>\n",
       "                        <td style=\"text-align: left;\">\n",
       "                            <strong>Comm: </strong> tcp://127.0.0.1:5373\n",
       "                        </td>\n",
       "                        <td style=\"text-align: left;\">\n",
       "                            <strong>Total threads: </strong> 4\n",
       "                        </td>\n",
       "                    </tr>\n",
       "                    <tr>\n",
       "                        <td style=\"text-align: left;\">\n",
       "                            <strong>Dashboard: </strong> <a href=\"http://127.0.0.1:5375/status\" target=\"_blank\">http://127.0.0.1:5375/status</a>\n",
       "                        </td>\n",
       "                        <td style=\"text-align: left;\">\n",
       "                            <strong>Memory: </strong> 3.89 GiB\n",
       "                        </td>\n",
       "                    </tr>\n",
       "                    <tr>\n",
       "                        <td style=\"text-align: left;\">\n",
       "                            <strong>Nanny: </strong> tcp://127.0.0.1:5339\n",
       "                        </td>\n",
       "                        <td style=\"text-align: left;\"></td>\n",
       "                    </tr>\n",
       "                    <tr>\n",
       "                        <td colspan=\"2\" style=\"text-align: left;\">\n",
       "                            <strong>Local directory: </strong> C:\\Users\\FELAB\\AppData\\Local\\Temp\\dask-scratch-space\\worker-rpayy00g\n",
       "                        </td>\n",
       "                    </tr>\n",
       "\n",
       "                    \n",
       "\n",
       "                    \n",
       "\n",
       "                </table>\n",
       "            </details>\n",
       "            </div>\n",
       "        </div>\n",
       "        \n",
       "        <div style=\"margin-bottom: 20px;\">\n",
       "            <div style=\"width: 24px; height: 24px; background-color: #DBF5FF; border: 3px solid #4CC9FF; border-radius: 5px; position: absolute;\"> </div>\n",
       "            <div style=\"margin-left: 48px;\">\n",
       "            <details>\n",
       "                <summary>\n",
       "                    <h4 style=\"margin-bottom: 0px; display: inline;\">Worker: 2</h4>\n",
       "                </summary>\n",
       "                <table style=\"width: 100%; text-align: left;\">\n",
       "                    <tr>\n",
       "                        <td style=\"text-align: left;\">\n",
       "                            <strong>Comm: </strong> tcp://127.0.0.1:5381\n",
       "                        </td>\n",
       "                        <td style=\"text-align: left;\">\n",
       "                            <strong>Total threads: </strong> 4\n",
       "                        </td>\n",
       "                    </tr>\n",
       "                    <tr>\n",
       "                        <td style=\"text-align: left;\">\n",
       "                            <strong>Dashboard: </strong> <a href=\"http://127.0.0.1:5385/status\" target=\"_blank\">http://127.0.0.1:5385/status</a>\n",
       "                        </td>\n",
       "                        <td style=\"text-align: left;\">\n",
       "                            <strong>Memory: </strong> 3.89 GiB\n",
       "                        </td>\n",
       "                    </tr>\n",
       "                    <tr>\n",
       "                        <td style=\"text-align: left;\">\n",
       "                            <strong>Nanny: </strong> tcp://127.0.0.1:5340\n",
       "                        </td>\n",
       "                        <td style=\"text-align: left;\"></td>\n",
       "                    </tr>\n",
       "                    <tr>\n",
       "                        <td colspan=\"2\" style=\"text-align: left;\">\n",
       "                            <strong>Local directory: </strong> C:\\Users\\FELAB\\AppData\\Local\\Temp\\dask-scratch-space\\worker-gze5yjfu\n",
       "                        </td>\n",
       "                    </tr>\n",
       "\n",
       "                    \n",
       "\n",
       "                    \n",
       "\n",
       "                </table>\n",
       "            </details>\n",
       "            </div>\n",
       "        </div>\n",
       "        \n",
       "        <div style=\"margin-bottom: 20px;\">\n",
       "            <div style=\"width: 24px; height: 24px; background-color: #DBF5FF; border: 3px solid #4CC9FF; border-radius: 5px; position: absolute;\"> </div>\n",
       "            <div style=\"margin-left: 48px;\">\n",
       "            <details>\n",
       "                <summary>\n",
       "                    <h4 style=\"margin-bottom: 0px; display: inline;\">Worker: 3</h4>\n",
       "                </summary>\n",
       "                <table style=\"width: 100%; text-align: left;\">\n",
       "                    <tr>\n",
       "                        <td style=\"text-align: left;\">\n",
       "                            <strong>Comm: </strong> tcp://127.0.0.1:5380\n",
       "                        </td>\n",
       "                        <td style=\"text-align: left;\">\n",
       "                            <strong>Total threads: </strong> 4\n",
       "                        </td>\n",
       "                    </tr>\n",
       "                    <tr>\n",
       "                        <td style=\"text-align: left;\">\n",
       "                            <strong>Dashboard: </strong> <a href=\"http://127.0.0.1:5383/status\" target=\"_blank\">http://127.0.0.1:5383/status</a>\n",
       "                        </td>\n",
       "                        <td style=\"text-align: left;\">\n",
       "                            <strong>Memory: </strong> 3.89 GiB\n",
       "                        </td>\n",
       "                    </tr>\n",
       "                    <tr>\n",
       "                        <td style=\"text-align: left;\">\n",
       "                            <strong>Nanny: </strong> tcp://127.0.0.1:5341\n",
       "                        </td>\n",
       "                        <td style=\"text-align: left;\"></td>\n",
       "                    </tr>\n",
       "                    <tr>\n",
       "                        <td colspan=\"2\" style=\"text-align: left;\">\n",
       "                            <strong>Local directory: </strong> C:\\Users\\FELAB\\AppData\\Local\\Temp\\dask-scratch-space\\worker-iza_kdas\n",
       "                        </td>\n",
       "                    </tr>\n",
       "\n",
       "                    \n",
       "\n",
       "                    \n",
       "\n",
       "                </table>\n",
       "            </details>\n",
       "            </div>\n",
       "        </div>\n",
       "        \n",
       "        <div style=\"margin-bottom: 20px;\">\n",
       "            <div style=\"width: 24px; height: 24px; background-color: #DBF5FF; border: 3px solid #4CC9FF; border-radius: 5px; position: absolute;\"> </div>\n",
       "            <div style=\"margin-left: 48px;\">\n",
       "            <details>\n",
       "                <summary>\n",
       "                    <h4 style=\"margin-bottom: 0px; display: inline;\">Worker: 4</h4>\n",
       "                </summary>\n",
       "                <table style=\"width: 100%; text-align: left;\">\n",
       "                    <tr>\n",
       "                        <td style=\"text-align: left;\">\n",
       "                            <strong>Comm: </strong> tcp://127.0.0.1:5397\n",
       "                        </td>\n",
       "                        <td style=\"text-align: left;\">\n",
       "                            <strong>Total threads: </strong> 4\n",
       "                        </td>\n",
       "                    </tr>\n",
       "                    <tr>\n",
       "                        <td style=\"text-align: left;\">\n",
       "                            <strong>Dashboard: </strong> <a href=\"http://127.0.0.1:5399/status\" target=\"_blank\">http://127.0.0.1:5399/status</a>\n",
       "                        </td>\n",
       "                        <td style=\"text-align: left;\">\n",
       "                            <strong>Memory: </strong> 3.89 GiB\n",
       "                        </td>\n",
       "                    </tr>\n",
       "                    <tr>\n",
       "                        <td style=\"text-align: left;\">\n",
       "                            <strong>Nanny: </strong> tcp://127.0.0.1:5342\n",
       "                        </td>\n",
       "                        <td style=\"text-align: left;\"></td>\n",
       "                    </tr>\n",
       "                    <tr>\n",
       "                        <td colspan=\"2\" style=\"text-align: left;\">\n",
       "                            <strong>Local directory: </strong> C:\\Users\\FELAB\\AppData\\Local\\Temp\\dask-scratch-space\\worker-iedgsrsj\n",
       "                        </td>\n",
       "                    </tr>\n",
       "\n",
       "                    \n",
       "\n",
       "                    \n",
       "\n",
       "                </table>\n",
       "            </details>\n",
       "            </div>\n",
       "        </div>\n",
       "        \n",
       "        <div style=\"margin-bottom: 20px;\">\n",
       "            <div style=\"width: 24px; height: 24px; background-color: #DBF5FF; border: 3px solid #4CC9FF; border-radius: 5px; position: absolute;\"> </div>\n",
       "            <div style=\"margin-left: 48px;\">\n",
       "            <details>\n",
       "                <summary>\n",
       "                    <h4 style=\"margin-bottom: 0px; display: inline;\">Worker: 5</h4>\n",
       "                </summary>\n",
       "                <table style=\"width: 100%; text-align: left;\">\n",
       "                    <tr>\n",
       "                        <td style=\"text-align: left;\">\n",
       "                            <strong>Comm: </strong> tcp://127.0.0.1:5374\n",
       "                        </td>\n",
       "                        <td style=\"text-align: left;\">\n",
       "                            <strong>Total threads: </strong> 4\n",
       "                        </td>\n",
       "                    </tr>\n",
       "                    <tr>\n",
       "                        <td style=\"text-align: left;\">\n",
       "                            <strong>Dashboard: </strong> <a href=\"http://127.0.0.1:5378/status\" target=\"_blank\">http://127.0.0.1:5378/status</a>\n",
       "                        </td>\n",
       "                        <td style=\"text-align: left;\">\n",
       "                            <strong>Memory: </strong> 3.89 GiB\n",
       "                        </td>\n",
       "                    </tr>\n",
       "                    <tr>\n",
       "                        <td style=\"text-align: left;\">\n",
       "                            <strong>Nanny: </strong> tcp://127.0.0.1:5343\n",
       "                        </td>\n",
       "                        <td style=\"text-align: left;\"></td>\n",
       "                    </tr>\n",
       "                    <tr>\n",
       "                        <td colspan=\"2\" style=\"text-align: left;\">\n",
       "                            <strong>Local directory: </strong> C:\\Users\\FELAB\\AppData\\Local\\Temp\\dask-scratch-space\\worker-xy61ydu1\n",
       "                        </td>\n",
       "                    </tr>\n",
       "\n",
       "                    \n",
       "\n",
       "                    \n",
       "\n",
       "                </table>\n",
       "            </details>\n",
       "            </div>\n",
       "        </div>\n",
       "        \n",
       "        <div style=\"margin-bottom: 20px;\">\n",
       "            <div style=\"width: 24px; height: 24px; background-color: #DBF5FF; border: 3px solid #4CC9FF; border-radius: 5px; position: absolute;\"> </div>\n",
       "            <div style=\"margin-left: 48px;\">\n",
       "            <details>\n",
       "                <summary>\n",
       "                    <h4 style=\"margin-bottom: 0px; display: inline;\">Worker: 6</h4>\n",
       "                </summary>\n",
       "                <table style=\"width: 100%; text-align: left;\">\n",
       "                    <tr>\n",
       "                        <td style=\"text-align: left;\">\n",
       "                            <strong>Comm: </strong> tcp://127.0.0.1:5389\n",
       "                        </td>\n",
       "                        <td style=\"text-align: left;\">\n",
       "                            <strong>Total threads: </strong> 4\n",
       "                        </td>\n",
       "                    </tr>\n",
       "                    <tr>\n",
       "                        <td style=\"text-align: left;\">\n",
       "                            <strong>Dashboard: </strong> <a href=\"http://127.0.0.1:5391/status\" target=\"_blank\">http://127.0.0.1:5391/status</a>\n",
       "                        </td>\n",
       "                        <td style=\"text-align: left;\">\n",
       "                            <strong>Memory: </strong> 3.89 GiB\n",
       "                        </td>\n",
       "                    </tr>\n",
       "                    <tr>\n",
       "                        <td style=\"text-align: left;\">\n",
       "                            <strong>Nanny: </strong> tcp://127.0.0.1:5344\n",
       "                        </td>\n",
       "                        <td style=\"text-align: left;\"></td>\n",
       "                    </tr>\n",
       "                    <tr>\n",
       "                        <td colspan=\"2\" style=\"text-align: left;\">\n",
       "                            <strong>Local directory: </strong> C:\\Users\\FELAB\\AppData\\Local\\Temp\\dask-scratch-space\\worker-hpajfzqo\n",
       "                        </td>\n",
       "                    </tr>\n",
       "\n",
       "                    \n",
       "\n",
       "                    \n",
       "\n",
       "                </table>\n",
       "            </details>\n",
       "            </div>\n",
       "        </div>\n",
       "        \n",
       "        <div style=\"margin-bottom: 20px;\">\n",
       "            <div style=\"width: 24px; height: 24px; background-color: #DBF5FF; border: 3px solid #4CC9FF; border-radius: 5px; position: absolute;\"> </div>\n",
       "            <div style=\"margin-left: 48px;\">\n",
       "            <details>\n",
       "                <summary>\n",
       "                    <h4 style=\"margin-bottom: 0px; display: inline;\">Worker: 7</h4>\n",
       "                </summary>\n",
       "                <table style=\"width: 100%; text-align: left;\">\n",
       "                    <tr>\n",
       "                        <td style=\"text-align: left;\">\n",
       "                            <strong>Comm: </strong> tcp://127.0.0.1:5382\n",
       "                        </td>\n",
       "                        <td style=\"text-align: left;\">\n",
       "                            <strong>Total threads: </strong> 4\n",
       "                        </td>\n",
       "                    </tr>\n",
       "                    <tr>\n",
       "                        <td style=\"text-align: left;\">\n",
       "                            <strong>Dashboard: </strong> <a href=\"http://127.0.0.1:5387/status\" target=\"_blank\">http://127.0.0.1:5387/status</a>\n",
       "                        </td>\n",
       "                        <td style=\"text-align: left;\">\n",
       "                            <strong>Memory: </strong> 3.89 GiB\n",
       "                        </td>\n",
       "                    </tr>\n",
       "                    <tr>\n",
       "                        <td style=\"text-align: left;\">\n",
       "                            <strong>Nanny: </strong> tcp://127.0.0.1:5345\n",
       "                        </td>\n",
       "                        <td style=\"text-align: left;\"></td>\n",
       "                    </tr>\n",
       "                    <tr>\n",
       "                        <td colspan=\"2\" style=\"text-align: left;\">\n",
       "                            <strong>Local directory: </strong> C:\\Users\\FELAB\\AppData\\Local\\Temp\\dask-scratch-space\\worker-x7zki8y9\n",
       "                        </td>\n",
       "                    </tr>\n",
       "\n",
       "                    \n",
       "\n",
       "                    \n",
       "\n",
       "                </table>\n",
       "            </details>\n",
       "            </div>\n",
       "        </div>\n",
       "        \n",
       "\n",
       "    </details>\n",
       "</div>\n",
       "\n",
       "        </details>\n",
       "    </div>\n",
       "</div>\n",
       "            </details>\n",
       "        \n",
       "\n",
       "    </div>\n",
       "</div>"
      ],
      "text/plain": [
       "<Client: 'tcp://127.0.0.1:5335' processes=8 threads=32, memory=31.15 GiB>"
      ]
     },
     "execution_count": 2,
     "metadata": {},
     "output_type": "execute_result"
    }
   ],
   "source": [
    "from dask.distributed import Client, LocalCluster\n",
    "cluster = LocalCluster()\n",
    "client = Client(cluster)\n",
    "client"
   ]
  },
  {
   "cell_type": "code",
   "execution_count": 8,
   "metadata": {},
   "outputs": [],
   "source": [
    "import dask.dataframe as dd\n",
    "import pandas as pd\n",
    "file_path = \"transcript.parquet\"\n",
    "df = dd.read_parquet(file_path, engine='fastparquet')\n",
    "df = df.persist()"
   ]
  },
  {
   "cell_type": "code",
   "execution_count": 9,
   "metadata": {},
   "outputs": [
    {
     "data": {
      "text/html": [
       "<div><strong>Dask DataFrame Structure:</strong></div>\n",
       "<div>\n",
       "<style scoped>\n",
       "    .dataframe tbody tr th:only-of-type {\n",
       "        vertical-align: middle;\n",
       "    }\n",
       "\n",
       "    .dataframe tbody tr th {\n",
       "        vertical-align: top;\n",
       "    }\n",
       "\n",
       "    .dataframe thead th {\n",
       "        text-align: right;\n",
       "    }\n",
       "</style>\n",
       "<table border=\"1\" class=\"dataframe\">\n",
       "  <thead>\n",
       "    <tr style=\"text-align: right;\">\n",
       "      <th></th>\n",
       "      <th>companyId</th>\n",
       "      <th>companyName</th>\n",
       "      <th>tickerSymbol</th>\n",
       "      <th>exchangeSymbol</th>\n",
       "      <th>ISOCode</th>\n",
       "      <th>pricingDate</th>\n",
       "      <th>exDate</th>\n",
       "      <th>payDate</th>\n",
       "      <th>recordDate</th>\n",
       "      <th>announcedDate</th>\n",
       "      <th>priceClose</th>\n",
       "      <th>volume</th>\n",
       "      <th>adjustmentFactor</th>\n",
       "      <th>VWAP</th>\n",
       "      <th>divAdjFactor</th>\n",
       "      <th>marketCap</th>\n",
       "      <th>TEV</th>\n",
       "      <th>sharesOutstanding</th>\n",
       "      <th>divFreqTypeName</th>\n",
       "      <th>supplementalTypeName</th>\n",
       "      <th>dividendTypeName</th>\n",
       "      <th>divAmount</th>\n",
       "      <th>netAmount</th>\n",
       "      <th>grossAmount</th>\n",
       "    </tr>\n",
       "    <tr>\n",
       "      <th>npartitions=2</th>\n",
       "      <th></th>\n",
       "      <th></th>\n",
       "      <th></th>\n",
       "      <th></th>\n",
       "      <th></th>\n",
       "      <th></th>\n",
       "      <th></th>\n",
       "      <th></th>\n",
       "      <th></th>\n",
       "      <th></th>\n",
       "      <th></th>\n",
       "      <th></th>\n",
       "      <th></th>\n",
       "      <th></th>\n",
       "      <th></th>\n",
       "      <th></th>\n",
       "      <th></th>\n",
       "      <th></th>\n",
       "      <th></th>\n",
       "      <th></th>\n",
       "      <th></th>\n",
       "      <th></th>\n",
       "      <th></th>\n",
       "      <th></th>\n",
       "    </tr>\n",
       "  </thead>\n",
       "  <tbody>\n",
       "    <tr>\n",
       "      <th></th>\n",
       "      <td>float64</td>\n",
       "      <td>string</td>\n",
       "      <td>string</td>\n",
       "      <td>string</td>\n",
       "      <td>string</td>\n",
       "      <td>datetime64[ns]</td>\n",
       "      <td>datetime64[ns]</td>\n",
       "      <td>datetime64[ns]</td>\n",
       "      <td>datetime64[ns]</td>\n",
       "      <td>datetime64[ns]</td>\n",
       "      <td>float64</td>\n",
       "      <td>float64</td>\n",
       "      <td>float64</td>\n",
       "      <td>float64</td>\n",
       "      <td>float64</td>\n",
       "      <td>float64</td>\n",
       "      <td>float64</td>\n",
       "      <td>float64</td>\n",
       "      <td>string</td>\n",
       "      <td>string</td>\n",
       "      <td>string</td>\n",
       "      <td>float64</td>\n",
       "      <td>float64</td>\n",
       "      <td>float64</td>\n",
       "    </tr>\n",
       "    <tr>\n",
       "      <th></th>\n",
       "      <td>...</td>\n",
       "      <td>...</td>\n",
       "      <td>...</td>\n",
       "      <td>...</td>\n",
       "      <td>...</td>\n",
       "      <td>...</td>\n",
       "      <td>...</td>\n",
       "      <td>...</td>\n",
       "      <td>...</td>\n",
       "      <td>...</td>\n",
       "      <td>...</td>\n",
       "      <td>...</td>\n",
       "      <td>...</td>\n",
       "      <td>...</td>\n",
       "      <td>...</td>\n",
       "      <td>...</td>\n",
       "      <td>...</td>\n",
       "      <td>...</td>\n",
       "      <td>...</td>\n",
       "      <td>...</td>\n",
       "      <td>...</td>\n",
       "      <td>...</td>\n",
       "      <td>...</td>\n",
       "      <td>...</td>\n",
       "    </tr>\n",
       "    <tr>\n",
       "      <th></th>\n",
       "      <td>...</td>\n",
       "      <td>...</td>\n",
       "      <td>...</td>\n",
       "      <td>...</td>\n",
       "      <td>...</td>\n",
       "      <td>...</td>\n",
       "      <td>...</td>\n",
       "      <td>...</td>\n",
       "      <td>...</td>\n",
       "      <td>...</td>\n",
       "      <td>...</td>\n",
       "      <td>...</td>\n",
       "      <td>...</td>\n",
       "      <td>...</td>\n",
       "      <td>...</td>\n",
       "      <td>...</td>\n",
       "      <td>...</td>\n",
       "      <td>...</td>\n",
       "      <td>...</td>\n",
       "      <td>...</td>\n",
       "      <td>...</td>\n",
       "      <td>...</td>\n",
       "      <td>...</td>\n",
       "      <td>...</td>\n",
       "    </tr>\n",
       "  </tbody>\n",
       "</table>\n",
       "</div>\n",
       "<div>Dask Name: to_pyarrow_string, 1 graph layer</div>"
      ],
      "text/plain": [
       "Dask DataFrame Structure:\n",
       "              companyId companyName tickerSymbol exchangeSymbol ISOCode     pricingDate          exDate         payDate      recordDate   announcedDate priceClose   volume adjustmentFactor     VWAP divAdjFactor marketCap      TEV sharesOutstanding divFreqTypeName supplementalTypeName dividendTypeName divAmount netAmount grossAmount\n",
       "npartitions=2                                                                                                                                                                                                                                                                                                                                \n",
       "                float64      string       string         string  string  datetime64[ns]  datetime64[ns]  datetime64[ns]  datetime64[ns]  datetime64[ns]    float64  float64          float64  float64      float64   float64  float64           float64          string               string           string   float64   float64     float64\n",
       "                    ...         ...          ...            ...     ...             ...             ...             ...             ...             ...        ...      ...              ...      ...          ...       ...      ...               ...             ...                  ...              ...       ...       ...         ...\n",
       "                    ...         ...          ...            ...     ...             ...             ...             ...             ...             ...        ...      ...              ...      ...          ...       ...      ...               ...             ...                  ...              ...       ...       ...         ...\n",
       "Dask Name: to_pyarrow_string, 1 graph layer"
      ]
     },
     "execution_count": 9,
     "metadata": {},
     "output_type": "execute_result"
    }
   ],
   "source": [
    "df"
   ]
  },
  {
   "cell_type": "code",
   "execution_count": null,
   "metadata": {},
   "outputs": [],
   "source": [
    "import os\n",
    "import pandas as pd\n",
    "import dask.dataframe as dd\n",
    "import time\n",
    "import gc\n",
    "from tqdm import tqdm\n",
    "\n",
    "def save_group_to_file(group, name, save_folder, groupby_column):\n",
    "    \"\"\"\n",
    "    주어진 그룹 데이터를 파일로 저장하는 함수\n",
    "    \"\"\"\n",
    "    save_path = os.path.join(save_folder, f\"{groupby_column}_{name}.parquet\")\n",
    "    group.to_parquet(save_path, engine='fastparquet')\n",
    "    del group\n",
    "    gc.collect()\n",
    "\n",
    "# 파일 경로 및 이름 설정\n",
    "file_path = \"transcript.parquet\"\n",
    "base_name = os.path.basename(file_path)\n",
    "folder_name, _ = os.path.splitext(base_name)\n",
    "\n",
    "# CSV 파일로부터 그룹화할 열 이름 추출\n",
    "ticker_csv = 'transcript/unique_transcript_tickerSymbol.csv'\n",
    "groupby_column = ticker_csv.split('_')[-1].replace('.csv', '')\n",
    "group_names = pd.read_csv(ticker_csv).values.flatten()\n",
    "\n",
    "# 저장할 폴더 준비\n",
    "save_folder = os.path.join(folder_name, \"grouped_by_\" + groupby_column)\n",
    "os.makedirs(save_folder, exist_ok=True)  # 폴더가 없으면 생성\n",
    "\n",
    "# Dask로 데이터 불러오기\n",
    "df_meta = dd.read_parquet(file_path, engine='fastparquet')\n",
    "\n",
    "# Repartition if necessary\n",
    "df_meta = df_meta.repartition(npartitions=8)\n",
    "\n",
    "# Persist the data into memory to avoid recomputation\n",
    "df_meta = df_meta.persist()\n",
    "\n",
    "# 시작 시간 기록\n",
    "overall_start_time = time.time()\n",
    "\n",
    "# Dask의 groupby를 사용하여 그룹화 및 파일 저장\n",
    "\n",
    "grouped = df_meta.groupby(groupby_column)\n",
    "\n",
    "empty_meta = pd.DataFrame({'index': pd.Index([], dtype='object')}).set_index('index')\n",
    "result = (grouped.apply(lambda group: save_group_to_file(group, group.name, save_folder, groupby_column),\n",
    "                        meta=empty_meta)\n",
    "          .compute())  # or use your Dask distributed client here\n",
    "\n",
    "# 전체 작업 소요 시간 출력\n",
    "print(f\"Grouped data saved in folder: {save_folder}\")\n",
    "overall_elapsed_time = time.time() - overall_start_time\n",
    "print(f\"Total time taken for all tasks: {overall_elapsed_time:.2f} seconds\")"
   ]
  },
  {
   "cell_type": "code",
   "execution_count": null,
   "metadata": {},
   "outputs": [],
   "source": []
  }
 ],
 "metadata": {
  "kernelspec": {
   "display_name": ".felab",
   "language": "python",
   "name": ".felab"
  },
  "language_info": {
   "codemirror_mode": {
    "name": "ipython",
    "version": 3
   },
   "file_extension": ".py",
   "mimetype": "text/x-python",
   "name": "python",
   "nbconvert_exporter": "python",
   "pygments_lexer": "ipython3",
   "version": "3.10.11"
  }
 },
 "nbformat": 4,
 "nbformat_minor": 2
}
