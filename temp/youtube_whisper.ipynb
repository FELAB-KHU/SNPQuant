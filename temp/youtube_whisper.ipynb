{
 "cells": [
  {
   "cell_type": "markdown",
   "metadata": {},
   "source": [
    "# 파일명 변경 및 정크 데이터 삭제"
   ]
  },
  {
   "cell_type": "code",
   "execution_count": 42,
   "metadata": {},
   "outputs": [],
   "source": [
    "import os\n",
    "import re\n",
    "from langdetect import detect\n",
    "from mutagen.mp3 import MP3\n",
    "from datetime import datetime  # datetime 클래스를 명시적으로 임포트\n",
    "\n",
    "directory = './data/'  # MP3 파일들이 위치한 폴더 경로\n",
    "\n",
    "# 파일을 생성 날짜에 따라 정렬\n",
    "mp3_files = [f for f in os.listdir(directory) if f.endswith('.mp3')]\n",
    "mp3_files.sort(key=lambda x: os.path.getctime(os.path.join(directory, x)))\n",
    "\n",
    "def clean_filename(filename):\n",
    "    \"\"\"특수문자를 제외한 파일 이름을 반환합니다.\"\"\"\n",
    "    # 알파벳, 숫자, 공백, 하이픈, 언더스코어만 허용\n",
    "    return re.sub(r'[^\\w\\s-]', '', filename)\n",
    "\n",
    "# 파일 처리 및 이름 변경\n",
    "for index, filename in enumerate(mp3_files, 1):\n",
    "    try:\n",
    "        file_path = os.path.join(directory, filename)\n",
    "        audio = MP3(file_path)\n",
    "\n",
    "        # 비영어 제목 확인\n",
    "        if detect(filename) != 'en':\n",
    "            os.remove(file_path)\n",
    "            continue\n",
    "\n",
    "        # 파일 길이 확인 (7분 미만 제거)\n",
    "        if audio.info.length < 420:\n",
    "            os.remove(file_path)\n",
    "            continue\n",
    "\n",
    "        # 파일 이름에서 특수문자 제거\n",
    "        clean_name = clean_filename(filename)\n",
    "        \n",
    "        # 파일 생성 날짜를 '년-월-일' 형식으로 변환\n",
    "        creation_time = datetime.fromtimestamp(os.path.getmtime(file_path)).strftime('%Y%m%d')\n",
    "\n",
    "        # 확장자 유지\n",
    "        extension = '.mp3'\n",
    "\n",
    "        # 파일 이름 변경 (인덱스-생성 날짜-제목 형식)\n",
    "        new_filename = f\"{index}_{creation_time}_{clean_name}{extension}\"\n",
    "        new_file_path = os.path.join(directory, new_filename)\n",
    "        os.rename(file_path, new_file_path)\n",
    "\n",
    "    except Exception as e:\n",
    "        print(f\"Error processing file {filename}: {e}\")\n"
   ]
  },
  {
   "cell_type": "code",
   "execution_count": 44,
   "metadata": {},
   "outputs": [],
   "source": [
    "import os\n",
    "\n",
    "for filename in os.listdir(directory):\n",
    "    if filename.endswith('mp3'):  # 'mp3'로 끝나는 파일 이름 찾기\n",
    "        correct_filename = filename[:-7] + '.mp3'  # 올바른 확장자 '.mp3'로 변경\n",
    "        os.rename(os.path.join(directory, filename), os.path.join(directory, correct_filename))\n"
   ]
  },
  {
   "cell_type": "code",
   "execution_count": 41,
   "metadata": {},
   "outputs": [],
   "source": [
    "import os\n",
    "\n",
    "def remove_specific_part(filename, part_to_remove):\n",
    "    \"\"\" 파일 이름에서 특정 부분을 제거하는 함수 \"\"\"\n",
    "    return filename.replace(part_to_remove, '', 1)  # 부분을 한 번만 제거\n",
    "\n",
    "for filename in os.listdir(directory):\n",
    "    if filename.endswith('.mp3'):\n",
    "        # 제거하고자 하는 부분을 정의 (예: \"-1-2023-11-15\")\n",
    "        parts = filename.split('_')\n",
    "        part_to_remove = '_'.join(parts[0:2]) + '_'\n",
    "        \n",
    "        # 특정 부분을 제거\n",
    "        new_filename = remove_specific_part(filename, part_to_remove)\n",
    "\n",
    "        # 파일 이름 변경\n",
    "        os.rename(os.path.join(directory, filename), os.path.join(directory, new_filename))\n"
   ]
  },
  {
   "cell_type": "markdown",
   "metadata": {},
   "source": [
    "# 위스퍼를 통해 텍스트화"
   ]
  },
  {
   "cell_type": "code",
   "execution_count": 1,
   "metadata": {},
   "outputs": [
    {
     "name": "stderr",
     "output_type": "stream",
     "text": [
      "Processing files:  76%|███████▌  | 2253/2979 [00:00<00:00, 10952.59file/s]"
     ]
    },
    {
     "name": "stdout",
     "output_type": "stream",
     "text": [
      "Detected Language: english\n",
      "Transcribing with faster-whisper (./youtube/_whisper_model)...\r"
     ]
    },
    {
     "name": "stderr",
     "output_type": "stream",
     "text": [
      "Transcribe: 100%|██████████| 1120.01/1120.01 [01:18<00:00, 14.25sec/s]e/s]\n"
     ]
    },
    {
     "name": "stdout",
     "output_type": "stream",
     "text": [
      "Completed transcription with faster-whisper (./youtube/_whisper_model).\n"
     ]
    },
    {
     "name": "stderr",
     "output_type": "stream",
     "text": [
      "Using cache found in C:\\Users\\FELAB/.cache\\torch\\hub\\snakers4_silero-vad_master\n"
     ]
    },
    {
     "name": "stdout",
     "output_type": "stream",
     "text": [
      "Predicting silences(s) with VAD...\r"
     ]
    },
    {
     "name": "stderr",
     "output_type": "stream",
     "text": [
      "Processing files:  98%|█████████▊| 2933/2979 [01:44<00:02, 19.36file/s]   "
     ]
    },
    {
     "name": "stdout",
     "output_type": "stream",
     "text": [
      "Predicted silence(s) with VAD.       \n",
      "Processing 2951_20220507_best stocks for long term investment  stock market analysis for beginners  nifty crash analysis aAQ4rXtyp90.mp3\n",
      "Detected Language: english\n",
      "Transcribing with faster-whisper (./youtube/_whisper_model)...\r"
     ]
    },
    {
     "name": "stderr",
     "output_type": "stream",
     "text": [
      "Transcribe: 100%|██████████| 863.15/863.15 [00:44<00:00, 19.26sec/s]\n"
     ]
    },
    {
     "name": "stdout",
     "output_type": "stream",
     "text": [
      "Completed transcription with faster-whisper (./youtube/_whisper_model).\n",
      "Predicting silences(s) with VAD...\r"
     ]
    },
    {
     "name": "stderr",
     "output_type": "stream",
     "text": [
      "Processing files:  98%|█████████▊| 2934/2979 [02:49<00:04, 10.24file/s]"
     ]
    },
    {
     "name": "stdout",
     "output_type": "stream",
     "text": [
      "Predicted silence(s) with VAD.       \n",
      "Processing 2952_20230315_PPI Report Today - PPI Data Could Tank the Stock Market wqe8R6iub4s.mp3\n",
      "Detected Language: english\n",
      "Transcribing with faster-whisper (./youtube/_whisper_model)...\r"
     ]
    },
    {
     "name": "stderr",
     "output_type": "stream",
     "text": [
      "Transcribe: 100%|██████████| 607.35/607.35 [00:40<00:00, 14.85sec/s]\n"
     ]
    },
    {
     "name": "stdout",
     "output_type": "stream",
     "text": [
      "Completed transcription with faster-whisper (./youtube/_whisper_model).\n",
      "Predicting silences(s) with VAD...\r"
     ]
    },
    {
     "name": "stderr",
     "output_type": "stream",
     "text": [
      "Processing files:  99%|█████████▊| 2935/2979 [03:44<00:06,  6.53file/s]"
     ]
    },
    {
     "name": "stdout",
     "output_type": "stream",
     "text": [
      "Predicted silence(s) with VAD.       \n",
      "Processing 2953_20221001_100000 in SP 500 ETF VOO This WILL change your life Lw-RBZja7zI.mp3\n",
      "Detected Language: english\n",
      "Transcribing with faster-whisper (./youtube/_whisper_model)...\r"
     ]
    },
    {
     "name": "stderr",
     "output_type": "stream",
     "text": [
      "Transcribe: 100%|██████████| 575.94/575.94 [00:34<00:00, 16.61sec/s]\n"
     ]
    },
    {
     "name": "stdout",
     "output_type": "stream",
     "text": [
      "Completed transcription with faster-whisper (./youtube/_whisper_model).\n",
      "Predicting silences(s) with VAD...\r"
     ]
    },
    {
     "name": "stderr",
     "output_type": "stream",
     "text": [
      "Processing files:  99%|█████████▊| 2936/2979 [04:33<00:09,  4.49file/s]"
     ]
    },
    {
     "name": "stdout",
     "output_type": "stream",
     "text": [
      "Predicted silence(s) with VAD.       \n",
      "Processing 2954_20220507_Do I Think The SELLOFF Continues Stock Market Dumps Hard - 35k Bitcoin CME Gap 23000 Next mFWjTKpglgw.mp3\n",
      "Detected Language: english\n",
      "Transcribing with faster-whisper (./youtube/_whisper_model)...\r"
     ]
    },
    {
     "name": "stderr",
     "output_type": "stream",
     "text": [
      "Transcribe: 100%|██████████| 803.28/803.28 [00:52<00:00, 15.33sec/s]\n"
     ]
    },
    {
     "name": "stdout",
     "output_type": "stream",
     "text": [
      "Completed transcription with faster-whisper (./youtube/_whisper_model).\n",
      "Predicting silences(s) with VAD...\r"
     ]
    },
    {
     "name": "stderr",
     "output_type": "stream",
     "text": [
      "Processing files:  99%|█████████▊| 2937/2979 [05:44<00:15,  2.71file/s]"
     ]
    },
    {
     "name": "stdout",
     "output_type": "stream",
     "text": [
      "Predicted silence(s) with VAD.       \n",
      "Processing 2955_20230317_Ray Dalios Warning for the 2023 Stock Market Crash F-IOc7U_hzM.mp3\n",
      "Detected Language: english\n",
      "Transcribing with faster-whisper (./youtube/_whisper_model)...\r"
     ]
    },
    {
     "name": "stderr",
     "output_type": "stream",
     "text": [
      "Transcribe: 100%|██████████| 542.2/542.2 [00:37<00:00, 14.62sec/s] \n"
     ]
    },
    {
     "name": "stdout",
     "output_type": "stream",
     "text": [
      "Completed transcription with faster-whisper (./youtube/_whisper_model).\n",
      "Predicting silences(s) with VAD...\r"
     ]
    },
    {
     "name": "stderr",
     "output_type": "stream",
     "text": [
      "Processing files:  99%|█████████▊| 2938/2979 [06:34<00:21,  1.95file/s]"
     ]
    },
    {
     "name": "stdout",
     "output_type": "stream",
     "text": [
      "Predicted silence(s) with VAD.       \n",
      "Processing 2956_20220509_Penny Stock Scam  Latest Share Market Scam QTcZnKV2VWk.mp3\n",
      "Detected Language: english\n",
      "Transcribing with faster-whisper (./youtube/_whisper_model)...\r"
     ]
    },
    {
     "name": "stderr",
     "output_type": "stream",
     "text": [
      "Transcribe: 100%|██████████| 926.45/926.45 [00:38<00:00, 23.77sec/s]\n"
     ]
    },
    {
     "name": "stdout",
     "output_type": "stream",
     "text": [
      "Completed transcription with faster-whisper (./youtube/_whisper_model).\n",
      "Predicting silences(s) with VAD...\r"
     ]
    },
    {
     "name": "stderr",
     "output_type": "stream",
     "text": [
      "Processing files:  99%|█████████▊| 2939/2979 [07:34<00:30,  1.31file/s]"
     ]
    },
    {
     "name": "stdout",
     "output_type": "stream",
     "text": [
      "Predicted silence(s) with VAD.       \n",
      "Processing 2957_20220929_Global Great Reset Warning    Stock Market And US Economy Crash 87TkP18hbCw.mp3\n",
      "Detected Language: english\n",
      "Transcribing with faster-whisper (./youtube/_whisper_model)...\r"
     ]
    },
    {
     "name": "stderr",
     "output_type": "stream",
     "text": [
      "Transcribe: 100%|██████████| 735.78/735.78 [00:35<00:00, 20.78sec/s]\n"
     ]
    },
    {
     "name": "stdout",
     "output_type": "stream",
     "text": [
      "Completed transcription with faster-whisper (./youtube/_whisper_model).\n",
      "Predicting silences(s) with VAD...\r"
     ]
    },
    {
     "name": "stderr",
     "output_type": "stream",
     "text": [
      "Processing files:  99%|█████████▊| 2940/2979 [08:27<00:41,  1.07s/file]"
     ]
    },
    {
     "name": "stdout",
     "output_type": "stream",
     "text": [
      "Predicted silence(s) with VAD.       \n",
      "Processing 2958_20220507_Wall Streets Stock Market Game  Dont Play No Game I Cant Win j6WwNp4m2Nw.mp3\n",
      "Detected Language: english\n",
      "Transcribing with faster-whisper (./youtube/_whisper_model)...\r"
     ]
    },
    {
     "name": "stderr",
     "output_type": "stream",
     "text": [
      "Transcribe: 100%|██████████| 514.88/514.88 [00:32<00:00, 15.97sec/s]\n"
     ]
    },
    {
     "name": "stdout",
     "output_type": "stream",
     "text": [
      "Completed transcription with faster-whisper (./youtube/_whisper_model).\n",
      "Predicting silences(s) with VAD...\r"
     ]
    },
    {
     "name": "stderr",
     "output_type": "stream",
     "text": [
      "Processing files:  99%|█████████▊| 2941/2979 [09:11<00:54,  1.43s/file]"
     ]
    },
    {
     "name": "stdout",
     "output_type": "stream",
     "text": [
      "Predicted silence(s) with VAD.       \n",
      "Processing 2959_20220930_BULL MARKET BACK FED PIVOT BITCOIN CRYPTO STOCK MARKET UPDATE wQOiDr7yElw.mp3\n",
      "Detected Language: english\n",
      "Transcribing with faster-whisper (./youtube/_whisper_model)...\r"
     ]
    },
    {
     "name": "stderr",
     "output_type": "stream",
     "text": [
      "Transcribe: 100%|██████████| 769.97/769.97 [00:46<00:00, 16.49sec/s]\n"
     ]
    },
    {
     "name": "stdout",
     "output_type": "stream",
     "text": [
      "Completed transcription with faster-whisper (./youtube/_whisper_model).\n",
      "Predicting silences(s) with VAD...\r"
     ]
    },
    {
     "name": "stderr",
     "output_type": "stream",
     "text": [
      "Processing files:  99%|█████████▉| 2942/2979 [10:16<01:20,  2.18s/file]"
     ]
    },
    {
     "name": "stdout",
     "output_type": "stream",
     "text": [
      "Predicted silence(s) with VAD.       \n",
      "Processing 2960_20230316_Data Analysis Reveals Clues To When The Stock Market Will Bottom Out  When The Recession Begins 5_8TOJ7kGqY.mp3\n",
      "Detected Language: english\n",
      "Transcribing with faster-whisper (./youtube/_whisper_model)...\r"
     ]
    },
    {
     "name": "stderr",
     "output_type": "stream",
     "text": [
      "Transcribe: 100%|██████████| 905.35/905.35 [00:45<00:00, 19.69sec/s]\n"
     ]
    },
    {
     "name": "stdout",
     "output_type": "stream",
     "text": [
      "Completed transcription with faster-whisper (./youtube/_whisper_model).\n",
      "Predicting silences(s) with VAD...\r"
     ]
    },
    {
     "name": "stderr",
     "output_type": "stream",
     "text": [
      "Processing files:  99%|█████████▉| 2943/2979 [11:23<01:57,  3.25s/file]"
     ]
    },
    {
     "name": "stdout",
     "output_type": "stream",
     "text": [
      "Predicted silence(s) with VAD.       \n",
      "Processing 2961_20221002_The Stock Market Crash of 2022 - UPDATE 5CsFOqNgLa0.mp3\n",
      "Detected Language: english\n",
      "Transcribing with faster-whisper (./youtube/_whisper_model)...\r"
     ]
    },
    {
     "name": "stderr",
     "output_type": "stream",
     "text": [
      "Transcribe: 100%|██████████| 797.41/797.41 [00:58<00:00, 13.54sec/s]\n"
     ]
    },
    {
     "name": "stdout",
     "output_type": "stream",
     "text": [
      "Completed transcription with faster-whisper (./youtube/_whisper_model).\n",
      "Predicting silences(s) with VAD...\r"
     ]
    },
    {
     "name": "stderr",
     "output_type": "stream",
     "text": [
      "Processing files:  99%|█████████▉| 2944/2979 [12:40<02:54,  4.98s/file]"
     ]
    },
    {
     "name": "stdout",
     "output_type": "stream",
     "text": [
      "Predicted silence(s) with VAD.       \n",
      "Processing 2962_20230319_AI Artificial Intelligence and INDIAN STOCK MARKET 6JhgNG1uuoM.mp3\n",
      "Detected Language: english\n",
      "Transcribing with faster-whisper (./youtube/_whisper_model)...\r"
     ]
    },
    {
     "name": "stderr",
     "output_type": "stream",
     "text": [
      "Transcribe: 100%|██████████| 752.99/752.99 [00:58<00:00, 12.94sec/s]\n"
     ]
    },
    {
     "name": "stdout",
     "output_type": "stream",
     "text": [
      "Completed transcription with faster-whisper (./youtube/_whisper_model).\n",
      "Predicting silences(s) with VAD...\r"
     ]
    },
    {
     "name": "stderr",
     "output_type": "stream",
     "text": [
      "Processing files:  99%|█████████▉| 2945/2979 [13:56<04:05,  7.23s/file]"
     ]
    },
    {
     "name": "stdout",
     "output_type": "stream",
     "text": [
      "Predicted silence(s) with VAD.       \n",
      "Processing 2963_20230320_Recession 2023  Why Everyone is Selling in Stockmarket  Stock Market Crash ctdKCMZHsf4.mp3\n",
      "Detected Language: english\n",
      "Transcribing with faster-whisper (./youtube/_whisper_model)...\r"
     ]
    },
    {
     "name": "stderr",
     "output_type": "stream",
     "text": [
      "Transcribe: 100%|██████████| 844.35/844.35 [00:49<00:00, 17.17sec/s]\n"
     ]
    },
    {
     "name": "stdout",
     "output_type": "stream",
     "text": [
      "Completed transcription with faster-whisper (./youtube/_whisper_model).\n",
      "Predicting silences(s) with VAD...\r"
     ]
    },
    {
     "name": "stderr",
     "output_type": "stream",
     "text": [
      "Processing files:  99%|█████████▉| 2946/2979 [15:03<05:24,  9.85s/file]"
     ]
    },
    {
     "name": "stdout",
     "output_type": "stream",
     "text": [
      "Predicted silence(s) with VAD.       \n",
      "Processing 2964_20221007_THE STOCK MARKET CRASH WILL END WHEN gP2YRQftmqQ.mp3\n",
      "Detected Language: english\n",
      "Transcribing with faster-whisper (./youtube/_whisper_model)...\r"
     ]
    },
    {
     "name": "stderr",
     "output_type": "stream",
     "text": [
      "Transcribe: 100%|██████████| 556.42/556.42 [00:31<00:00, 17.57sec/s]\n"
     ]
    },
    {
     "name": "stdout",
     "output_type": "stream",
     "text": [
      "Completed transcription with faster-whisper (./youtube/_whisper_model).\n",
      "Predicting silences(s) with VAD...\r"
     ]
    },
    {
     "name": "stderr",
     "output_type": "stream",
     "text": [
      "Processing files:  99%|█████████▉| 2947/2979 [15:47<06:19, 11.86s/file]"
     ]
    },
    {
     "name": "stdout",
     "output_type": "stream",
     "text": [
      "Predicted silence(s) with VAD.       \n",
      "Processing 2965_20230320_US market Crash - Gap Down  Pre Market Report 20th Mar 2023 - Nifty  Bank nifty Prediction J64AqzKcISA.mp3\n",
      "Detected Language: english\n",
      "Transcribing with faster-whisper (./youtube/_whisper_model)...\r"
     ]
    },
    {
     "name": "stderr",
     "output_type": "stream",
     "text": [
      "Transcribe: 100%|██████████| 586.99/586.99 [00:34<00:00, 17.01sec/s]\n"
     ]
    },
    {
     "name": "stdout",
     "output_type": "stream",
     "text": [
      "Completed transcription with faster-whisper (./youtube/_whisper_model).\n",
      "Predicting silences(s) with VAD...\r"
     ]
    },
    {
     "name": "stderr",
     "output_type": "stream",
     "text": [
      "Processing files:  99%|█████████▉| 2948/2979 [16:35<07:33, 14.64s/file]"
     ]
    },
    {
     "name": "stdout",
     "output_type": "stream",
     "text": [
      "Predicted silence(s) with VAD.       \n",
      "Processing 2966_20221006_Indian Stock market badly beats China  5 Trillion dollars wiped out of Chinese Market 9J_CgHh3NLU.mp3\n",
      "Detected Language: english\n",
      "Transcribing with faster-whisper (./youtube/_whisper_model)...\r"
     ]
    },
    {
     "name": "stderr",
     "output_type": "stream",
     "text": [
      "Transcribe: 100%|██████████| 646.08/646.08 [00:39<00:00, 16.54sec/s]\n"
     ]
    },
    {
     "name": "stdout",
     "output_type": "stream",
     "text": [
      "Completed transcription with faster-whisper (./youtube/_whisper_model).\n",
      "Predicting silences(s) with VAD...\r"
     ]
    },
    {
     "name": "stderr",
     "output_type": "stream",
     "text": [
      "Processing files:  99%|█████████▉| 2949/2979 [17:28<09:14, 18.49s/file]"
     ]
    },
    {
     "name": "stdout",
     "output_type": "stream",
     "text": [
      "Predicted silence(s) with VAD.       \n",
      "Processing 2967_20230320_Stock Market Heading Towards a Storm  Nifty Predictions and Bank Nifty Analysis  21 March Ch1D_H6NGRs.mp3\n",
      "Detected Language: english\n",
      "Transcribing with faster-whisper (./youtube/_whisper_model)...\r"
     ]
    },
    {
     "name": "stderr",
     "output_type": "stream",
     "text": [
      "Transcribe: 100%|██████████| 1187.16/1187.16 [01:27<00:00, 13.50sec/s]\n"
     ]
    },
    {
     "name": "stdout",
     "output_type": "stream",
     "text": [
      "Completed transcription with faster-whisper (./youtube/_whisper_model).\n",
      "Predicting silences(s) with VAD...\r"
     ]
    },
    {
     "name": "stderr",
     "output_type": "stream",
     "text": [
      "Processing files:  99%|█████████▉| 2950/2979 [19:22<14:39, 30.34s/file]"
     ]
    },
    {
     "name": "stdout",
     "output_type": "stream",
     "text": [
      "Predicted silence(s) with VAD.       \n",
      "Processing 2968_20221004_Stock Market For Beginners in Telugu - Stock Market Series - Episode 4  Mistakes Made by Investors leqfSB2ro7w.mp3\n",
      "Detected Language: english\n",
      "Transcribing with faster-whisper (./youtube/_whisper_model)...\r"
     ]
    },
    {
     "name": "stderr",
     "output_type": "stream",
     "text": [
      "Transcribe: 100%|██████████| 913.75/913.75 [01:05<00:00, 13.90sec/s]\n"
     ]
    },
    {
     "name": "stdout",
     "output_type": "stream",
     "text": [
      "Completed transcription with faster-whisper (./youtube/_whisper_model).\n",
      "Predicting silences(s) with VAD...\r"
     ]
    },
    {
     "name": "stderr",
     "output_type": "stream",
     "text": [
      "Processing files:  99%|█████████▉| 2951/2979 [20:47<18:03, 38.69s/file]"
     ]
    },
    {
     "name": "stdout",
     "output_type": "stream",
     "text": [
      "Predicted silence(s) with VAD.       \n",
      "Processing 2969_20230320_The BEST ETF Investing Strategies in 2023 European investor dFl7KMLlgOU.mp3\n",
      "Detected Language: english\n",
      "Transcribing with faster-whisper (./youtube/_whisper_model)...\r"
     ]
    },
    {
     "name": "stderr",
     "output_type": "stream",
     "text": [
      "Transcribe: 100%|██████████| 933.99/933.99 [01:05<00:00, 14.21sec/s]\n"
     ]
    },
    {
     "name": "stdout",
     "output_type": "stream",
     "text": [
      "Completed transcription with faster-whisper (./youtube/_whisper_model).\n",
      "Predicting silences(s) with VAD...\r"
     ]
    },
    {
     "name": "stderr",
     "output_type": "stream",
     "text": [
      "Processing files:  99%|█████████▉| 2952/2979 [22:13<21:11, 47.11s/file]"
     ]
    },
    {
     "name": "stdout",
     "output_type": "stream",
     "text": [
      "Predicted silence(s) with VAD.       \n",
      "Processing 2970_20221008_Ruining Slime Rancher by Crashing The Slime Stock Market X_Ng2h2uQ-w.mp3\n",
      "Detected Language: english\n",
      "Transcribing with faster-whisper (./youtube/_whisper_model)...\r"
     ]
    },
    {
     "name": "stderr",
     "output_type": "stream",
     "text": [
      "Transcribe: 100%|██████████| 826.67/826.67 [00:53<00:00, 15.53sec/s]\n"
     ]
    },
    {
     "name": "stdout",
     "output_type": "stream",
     "text": [
      "Completed transcription with faster-whisper (./youtube/_whisper_model).\n",
      "Predicting silences(s) with VAD...\r"
     ]
    },
    {
     "name": "stderr",
     "output_type": "stream",
     "text": [
      "Processing files:  99%|█████████▉| 2953/2979 [23:25<22:32, 52.01s/file]"
     ]
    },
    {
     "name": "stdout",
     "output_type": "stream",
     "text": [
      "Predicted silence(s) with VAD.       \n",
      "Processing 2971_20231103_I Asked ChatGPT To Make Me As Much Money As Possible nY234RoQeHw.mp3\n",
      "Detected Language: english\n",
      "Transcribing with faster-whisper (./youtube/_whisper_model)...\r"
     ]
    },
    {
     "name": "stderr",
     "output_type": "stream",
     "text": [
      "Transcribe: 100%|██████████| 663.21/663.21 [00:38<00:00, 17.07sec/s]\n"
     ]
    },
    {
     "name": "stdout",
     "output_type": "stream",
     "text": [
      "Completed transcription with faster-whisper (./youtube/_whisper_model).\n",
      "Predicting silences(s) with VAD...\r"
     ]
    },
    {
     "name": "stderr",
     "output_type": "stream",
     "text": [
      "Processing files:  99%|█████████▉| 2954/2979 [24:18<21:48, 52.35s/file]"
     ]
    },
    {
     "name": "stdout",
     "output_type": "stream",
     "text": [
      "Predicted silence(s) with VAD.       \n",
      "Processing 2972_20221009_Stop Investing In The World Index iTWAJ-gloDU.mp3\n",
      "Detected Language: english\n",
      "Transcribing with faster-whisper (./youtube/_whisper_model)...\r"
     ]
    },
    {
     "name": "stderr",
     "output_type": "stream",
     "text": [
      "Transcribe: 100%|██████████| 917.13/917.13 [01:00<00:00, 15.18sec/s]\n"
     ]
    },
    {
     "name": "stdout",
     "output_type": "stream",
     "text": [
      "Completed transcription with faster-whisper (./youtube/_whisper_model).\n",
      "Predicting silences(s) with VAD...\r"
     ]
    },
    {
     "name": "stderr",
     "output_type": "stream",
     "text": [
      "Processing files:  99%|█████████▉| 2955/2979 [25:38<23:39, 59.14s/file]"
     ]
    },
    {
     "name": "stdout",
     "output_type": "stream",
     "text": [
      "Predicted silence(s) with VAD.       \n",
      "Processing 2973_20230322_Has the Stock Market Bottomed MARCH 2023 Update  SIX signals to a market crash recovery 1HZCIt5Ct5Y.mp3\n",
      "Detected Language: english\n",
      "Transcribing with faster-whisper (./youtube/_whisper_model)...\r"
     ]
    },
    {
     "name": "stderr",
     "output_type": "stream",
     "text": [
      "Transcribe: 100%|██████████| 841.92/841.92 [00:52<00:00, 16.02sec/s]\n"
     ]
    },
    {
     "name": "stdout",
     "output_type": "stream",
     "text": [
      "Completed transcription with faster-whisper (./youtube/_whisper_model).\n",
      "Predicting silences(s) with VAD...\r"
     ]
    },
    {
     "name": "stderr",
     "output_type": "stream",
     "text": [
      "Processing files:  99%|█████████▉| 2956/2979 [26:50<23:50, 62.21s/file]"
     ]
    },
    {
     "name": "stdout",
     "output_type": "stream",
     "text": [
      "Predicted silence(s) with VAD.       \n",
      "Processing 2974_20221006_SP 500 vs Total US Market for Australians Proof IVV vs VTS ZcEyDE9sp6I.mp3\n",
      "Detected Language: english\n",
      "Transcribing with faster-whisper (./youtube/_whisper_model)...\r"
     ]
    },
    {
     "name": "stderr",
     "output_type": "stream",
     "text": [
      "Transcribe: 100%|██████████| 752.93/752.93 [00:43<00:00, 17.20sec/s]\n"
     ]
    },
    {
     "name": "stdout",
     "output_type": "stream",
     "text": [
      "Completed transcription with faster-whisper (./youtube/_whisper_model).\n",
      "Predicting silences(s) with VAD...\r"
     ]
    },
    {
     "name": "stderr",
     "output_type": "stream",
     "text": [
      "Processing files:  99%|█████████▉| 2957/2979 [27:50<22:39, 61.78s/file]"
     ]
    },
    {
     "name": "stdout",
     "output_type": "stream",
     "text": [
      "Predicted silence(s) with VAD.       \n",
      "Processing 2975_20221007_What is Stock Market with Full Information  Hindi  Quick Support Z2LcaAlj288.mp3\n",
      "Detected Language: english\n",
      "Transcribing with faster-whisper (./youtube/_whisper_model)...\r"
     ]
    },
    {
     "name": "stderr",
     "output_type": "stream",
     "text": [
      "Transcribe: 100%|██████████| 609.08/609.08 [00:41<00:00, 14.66sec/s]\n"
     ]
    },
    {
     "name": "stdout",
     "output_type": "stream",
     "text": [
      "Completed transcription with faster-whisper (./youtube/_whisper_model).\n",
      "Predicting silences(s) with VAD...\r"
     ]
    },
    {
     "name": "stderr",
     "output_type": "stream",
     "text": [
      "Processing files:  99%|█████████▉| 2958/2979 [28:45<20:57, 59.89s/file]"
     ]
    },
    {
     "name": "stdout",
     "output_type": "stream",
     "text": [
      "Predicted silence(s) with VAD.       \n",
      "Processing 2976_20221008_FED PIVOT HOPES DYING ON UNPRECEDENTED MARKET CONDITIONS - BITCOIN CRYPTO STOCK MARKET UPDATE wG2_RVPix10.mp3\n",
      "Detected Language: english\n",
      "Transcribing with faster-whisper (./youtube/_whisper_model)...\r"
     ]
    },
    {
     "name": "stderr",
     "output_type": "stream",
     "text": [
      "Transcribe: 100%|██████████| 1004.54/1004.54 [00:46<00:00, 21.55sec/s]\n"
     ]
    },
    {
     "name": "stdout",
     "output_type": "stream",
     "text": [
      "Completed transcription with faster-whisper (./youtube/_whisper_model).\n",
      "Predicting silences(s) with VAD...\r"
     ]
    },
    {
     "name": "stderr",
     "output_type": "stream",
     "text": [
      "Processing files:  99%|█████████▉| 2959/2979 [29:54<20:47, 62.40s/file]"
     ]
    },
    {
     "name": "stdout",
     "output_type": "stream",
     "text": [
      "Predicted silence(s) with VAD.       \n",
      "Processing 2977_20221009_What Is A Stock Market Short Squeeze - My Strategy For Investing Into The Stock Market Crash of 2023 osk_x_I47to.mp3\n",
      "Detected Language: english\n",
      "Transcribing with faster-whisper (./youtube/_whisper_model)...\r"
     ]
    },
    {
     "name": "stderr",
     "output_type": "stream",
     "text": [
      "Transcribe: 100%|██████████| 520.94/520.94 [00:26<00:00, 19.44sec/s]\n"
     ]
    },
    {
     "name": "stdout",
     "output_type": "stream",
     "text": [
      "Completed transcription with faster-whisper (./youtube/_whisper_model).\n",
      "Predicting silences(s) with VAD...\r"
     ]
    },
    {
     "name": "stderr",
     "output_type": "stream",
     "text": [
      "Processing files:  99%|█████████▉| 2960/2979 [30:32<17:33, 55.44s/file]"
     ]
    },
    {
     "name": "stdout",
     "output_type": "stream",
     "text": [
      "Predicted silence(s) with VAD.       \n",
      "Processing 2978_20221010_Stock Market Basics in Telugu - Zero Brokerage Demat  Trading Account  Stock Market Series EP 6 a2FB9B0ujaU.mp3\n",
      "Detected Language: english\n",
      "Transcribing with faster-whisper (./youtube/_whisper_model)...\r"
     ]
    },
    {
     "name": "stderr",
     "output_type": "stream",
     "text": [
      "Transcribe: 100%|██████████| 749.13/749.13 [00:46<00:00, 16.03sec/s]\n"
     ]
    },
    {
     "name": "stdout",
     "output_type": "stream",
     "text": [
      "Completed transcription with faster-whisper (./youtube/_whisper_model).\n",
      "Predicting silences(s) with VAD...\r"
     ]
    },
    {
     "name": "stderr",
     "output_type": "stream",
     "text": [
      "Processing files:  99%|█████████▉| 2961/2979 [31:35<17:19, 57.75s/file]"
     ]
    },
    {
     "name": "stdout",
     "output_type": "stream",
     "text": [
      "Predicted silence(s) with VAD.       \n",
      "Processing 2979_20221011_How to identify Multibagger stocks using Screener   Stock Market Free Classes  Screenerin erPOou3Yz3E.mp3\n",
      "Detected Language: english\n",
      "Transcribing with faster-whisper (./youtube/_whisper_model)...\r"
     ]
    },
    {
     "name": "stderr",
     "output_type": "stream",
     "text": [
      "Transcribe: 100%|██████████| 824.38/824.38 [00:50<00:00, 16.31sec/s]\n"
     ]
    },
    {
     "name": "stdout",
     "output_type": "stream",
     "text": [
      "Completed transcription with faster-whisper (./youtube/_whisper_model).\n",
      "Predicting silences(s) with VAD...\r"
     ]
    },
    {
     "name": "stderr",
     "output_type": "stream",
     "text": [
      "Processing files:  99%|█████████▉| 2962/2979 [32:44<17:14, 60.85s/file]"
     ]
    },
    {
     "name": "stdout",
     "output_type": "stream",
     "text": [
      "Predicted silence(s) with VAD.       \n",
      "Processing 2980_20221013_JP Morgan Warns Painful Recession  45 Stock Market Crash NEYVFUkfaPM.mp3\n",
      "Detected Language: english\n",
      "Transcribing with faster-whisper (./youtube/_whisper_model)...\r"
     ]
    },
    {
     "name": "stderr",
     "output_type": "stream",
     "text": [
      "Transcribe: 100%|██████████| 817.19/817.19 [00:52<00:00, 15.70sec/s]\n"
     ]
    },
    {
     "name": "stdout",
     "output_type": "stream",
     "text": [
      "Completed transcription with faster-whisper (./youtube/_whisper_model).\n",
      "Predicting silences(s) with VAD...\r"
     ]
    },
    {
     "name": "stderr",
     "output_type": "stream",
     "text": [
      "Processing files:  99%|█████████▉| 2963/2979 [33:53<16:53, 63.36s/file]"
     ]
    },
    {
     "name": "stdout",
     "output_type": "stream",
     "text": [
      "Predicted silence(s) with VAD.       \n",
      "Processing 2981_20221012_WORST IS YET TO COME  Stock Market Crash NF-lim7_wHM.mp3\n",
      "Detected Language: english\n",
      "Transcribing with faster-whisper (./youtube/_whisper_model)...\r"
     ]
    },
    {
     "name": "stderr",
     "output_type": "stream",
     "text": [
      "Transcribe: 100%|██████████| 1002.54/1002.54 [01:05<00:00, 15.32sec/s]\n"
     ]
    },
    {
     "name": "stdout",
     "output_type": "stream",
     "text": [
      "Completed transcription with faster-whisper (./youtube/_whisper_model).\n",
      "Predicting silences(s) with VAD...\r"
     ]
    },
    {
     "name": "stderr",
     "output_type": "stream",
     "text": [
      "Processing files:  99%|█████████▉| 2964/2979 [35:20<17:36, 70.43s/file]"
     ]
    },
    {
     "name": "stdout",
     "output_type": "stream",
     "text": [
      "Predicted silence(s) with VAD.       \n",
      "Processing 2982_20221014_An Inside Look At The New York Stock Exchange A69iXGblWyw.mp3\n",
      "Detected Language: english\n",
      "Transcribing with faster-whisper (./youtube/_whisper_model)...\r"
     ]
    },
    {
     "name": "stderr",
     "output_type": "stream",
     "text": [
      "Transcribe: 100%|██████████| 946.2/946.2 [00:56<00:00, 16.82sec/s] \n"
     ]
    },
    {
     "name": "stdout",
     "output_type": "stream",
     "text": [
      "Completed transcription with faster-whisper (./youtube/_whisper_model).\n",
      "Predicting silences(s) with VAD...\r"
     ]
    },
    {
     "name": "stderr",
     "output_type": "stream",
     "text": [
      "Processing files: 100%|█████████▉| 2965/2979 [36:37<16:51, 72.28s/file]"
     ]
    },
    {
     "name": "stdout",
     "output_type": "stream",
     "text": [
      "Predicted silence(s) with VAD.       \n",
      "Processing 2983_20221018_STOCK MARKET CRASH OR BOOM WHATS NEXT 8Vryqwt9www.mp3\n",
      "Detected Language: english\n",
      "Transcribing with faster-whisper (./youtube/_whisper_model)...\r"
     ]
    },
    {
     "name": "stderr",
     "output_type": "stream",
     "text": [
      "Transcribe: 100%|██████████| 592.56/592.56 [00:41<00:00, 14.12sec/s]\n"
     ]
    },
    {
     "name": "stdout",
     "output_type": "stream",
     "text": [
      "Completed transcription with faster-whisper (./youtube/_whisper_model).\n",
      "Predicting silences(s) with VAD...\r"
     ]
    },
    {
     "name": "stderr",
     "output_type": "stream",
     "text": [
      "Processing files: 100%|█████████▉| 2966/2979 [37:32<14:31, 67.01s/file]"
     ]
    },
    {
     "name": "stdout",
     "output_type": "stream",
     "text": [
      "Predicted silence(s) with VAD.       \n",
      "Processing 2984_20221018_5 Lifes Greatest Investments  Not Stock Market CeATEEtsFtw.mp3\n",
      "Detected Language: english\n",
      "Transcribing with faster-whisper (./youtube/_whisper_model)...\r"
     ]
    },
    {
     "name": "stderr",
     "output_type": "stream",
     "text": [
      "Transcribe: 100%|██████████| 761.8/761.8 [00:44<00:00, 17.20sec/s] \n"
     ]
    },
    {
     "name": "stdout",
     "output_type": "stream",
     "text": [
      "Completed transcription with faster-whisper (./youtube/_whisper_model).\n",
      "Predicting silences(s) with VAD...\r"
     ]
    },
    {
     "name": "stderr",
     "output_type": "stream",
     "text": [
      "Processing files: 100%|█████████▉| 2967/2979 [38:33<13:03, 65.26s/file]"
     ]
    },
    {
     "name": "stdout",
     "output_type": "stream",
     "text": [
      "Predicted silence(s) with VAD.       \n",
      "Processing 2985_20221019_How to Take Advantage of a Stock Market Crash nnD581uafbY.mp3\n",
      "Detected Language: english\n",
      "Transcribing with faster-whisper (./youtube/_whisper_model)...\r"
     ]
    },
    {
     "name": "stderr",
     "output_type": "stream",
     "text": [
      "Transcribe: 100%|██████████| 692.63/692.63 [00:38<00:00, 17.82sec/s]\n"
     ]
    },
    {
     "name": "stdout",
     "output_type": "stream",
     "text": [
      "Completed transcription with faster-whisper (./youtube/_whisper_model).\n",
      "Predicting silences(s) with VAD...\r"
     ]
    },
    {
     "name": "stderr",
     "output_type": "stream",
     "text": [
      "Processing files: 100%|█████████▉| 2968/2979 [39:27<11:20, 61.90s/file]"
     ]
    },
    {
     "name": "stdout",
     "output_type": "stream",
     "text": [
      "Predicted silence(s) with VAD.       \n",
      "Processing 2986_20221019_Worlds Best Stock Market - Momentum Portfolio Update Idqx5ERlZcE.mp3\n",
      "Detected Language: english\n",
      "Transcribing with faster-whisper (./youtube/_whisper_model)...\r"
     ]
    },
    {
     "name": "stderr",
     "output_type": "stream",
     "text": [
      "Transcribe: 100%|██████████| 1144.51/1144.51 [01:09<00:00, 16.58sec/s]\n"
     ]
    },
    {
     "name": "stdout",
     "output_type": "stream",
     "text": [
      "Completed transcription with faster-whisper (./youtube/_whisper_model).\n",
      "Predicting silences(s) with VAD...\r"
     ]
    },
    {
     "name": "stderr",
     "output_type": "stream",
     "text": [
      "Processing files: 100%|█████████▉| 2969/2979 [41:01<11:55, 71.54s/file]"
     ]
    },
    {
     "name": "stdout",
     "output_type": "stream",
     "text": [
      "Predicted silence(s) with VAD.       \n",
      "Processing 2987_20221019_ETF Investment Strategy  Make Regular Income from Stock Market 344ZAhJff3Y.mp3\n",
      "Detected Language: english\n",
      "Transcribing with faster-whisper (./youtube/_whisper_model)...\r"
     ]
    },
    {
     "name": "stderr",
     "output_type": "stream",
     "text": [
      "Transcribe: 100%|██████████| 445.01/445.01 [00:22<00:00, 20.22sec/s]\n"
     ]
    },
    {
     "name": "stdout",
     "output_type": "stream",
     "text": [
      "Completed transcription with faster-whisper (./youtube/_whisper_model).\n",
      "Predicting silences(s) with VAD...\r"
     ]
    },
    {
     "name": "stderr",
     "output_type": "stream",
     "text": [
      "Processing files: 100%|█████████▉| 2970/2979 [41:33<08:57, 59.68s/file]"
     ]
    },
    {
     "name": "stdout",
     "output_type": "stream",
     "text": [
      "Predicted silence(s) with VAD.       \n",
      "Processing 2988_20221019_Full Moon Stock Market Trading System  Lunatic Strategy  Profitable Lunar Cycles LHqD6YHRcDA.mp3\n",
      "Detected Language: english\n",
      "Transcribing with faster-whisper (./youtube/_whisper_model)...\r"
     ]
    },
    {
     "name": "stderr",
     "output_type": "stream",
     "text": [
      "Transcribe: 100%|██████████| 722.48/722.48 [00:48<00:00, 14.87sec/s]\n"
     ]
    },
    {
     "name": "stdout",
     "output_type": "stream",
     "text": [
      "Completed transcription with faster-whisper (./youtube/_whisper_model).\n",
      "Predicting silences(s) with VAD...\r"
     ]
    },
    {
     "name": "stderr",
     "output_type": "stream",
     "text": [
      "Processing files: 100%|█████████▉| 2971/2979 [42:37<08:09, 61.19s/file]"
     ]
    },
    {
     "name": "stdout",
     "output_type": "stream",
     "text": [
      "Predicted silence(s) with VAD.       \n",
      "Processing 2989_20221021_5 Best Charles Schwab Funds to Buy  Hold Forever w1Mm_oERYKg.mp3\n",
      "Detected Language: english\n",
      "Transcribing with faster-whisper (./youtube/_whisper_model)...\r"
     ]
    },
    {
     "name": "stderr",
     "output_type": "stream",
     "text": [
      "Transcribe: 100%|██████████| 583.16/583.16 [00:32<00:00, 17.87sec/s]\n"
     ]
    },
    {
     "name": "stdout",
     "output_type": "stream",
     "text": [
      "Completed transcription with faster-whisper (./youtube/_whisper_model).\n",
      "Predicting silences(s) with VAD...\r"
     ]
    },
    {
     "name": "stderr",
     "output_type": "stream",
     "text": [
      "Processing files: 100%|█████████▉| 2972/2979 [43:24<06:36, 56.70s/file]"
     ]
    },
    {
     "name": "stdout",
     "output_type": "stream",
     "text": [
      "Predicted silence(s) with VAD.       \n",
      "Processing 2990_20221021_STOCK MARKET CRASH INDICATOR WITH PERFECT RECORD JUST TRIGGERED JaijDhCGc2s.mp3\n",
      "Detected Language: english\n",
      "Transcribing with faster-whisper (./youtube/_whisper_model)...\r"
     ]
    },
    {
     "name": "stderr",
     "output_type": "stream",
     "text": [
      "Transcribe: 100%|██████████| 600.38/600.38 [00:40<00:00, 14.70sec/s]\n"
     ]
    },
    {
     "name": "stdout",
     "output_type": "stream",
     "text": [
      "Completed transcription with faster-whisper (./youtube/_whisper_model).\n",
      "Predicting silences(s) with VAD...\r"
     ]
    },
    {
     "name": "stderr",
     "output_type": "stream",
     "text": [
      "Processing files: 100%|█████████▉| 2973/2979 [44:18<05:35, 55.92s/file]"
     ]
    },
    {
     "name": "stdout",
     "output_type": "stream",
     "text": [
      "Predicted silence(s) with VAD.       \n",
      "Processing 2991_20221021_MASSIVE COLLAPSE JUST STARTING - SP500 SPY QQQ TSLA STOCK MARKET lVp2t0zaFFk.mp3\n",
      "Detected Language: english\n",
      "Transcribing with faster-whisper (./youtube/_whisper_model)...\r"
     ]
    },
    {
     "name": "stderr",
     "output_type": "stream",
     "text": [
      "Transcribe: 100%|██████████| 986.6/986.6 [00:55<00:00, 17.77sec/s] \n"
     ]
    },
    {
     "name": "stdout",
     "output_type": "stream",
     "text": [
      "Completed transcription with faster-whisper (./youtube/_whisper_model).\n",
      "Predicting silences(s) with VAD...\r"
     ]
    },
    {
     "name": "stderr",
     "output_type": "stream",
     "text": [
      "Processing files: 100%|█████████▉| 2974/2979 [45:34<05:10, 62.15s/file]"
     ]
    },
    {
     "name": "stdout",
     "output_type": "stream",
     "text": [
      "Predicted silence(s) with VAD.       \n",
      "Processing 2992_20230807_Support  Resistance Trading in Stock Market  Price Action Trading r2LzjTUs3lo.mp3\n",
      "Detected Language: english\n",
      "Transcribing with faster-whisper (./youtube/_whisper_model)...\r"
     ]
    },
    {
     "name": "stderr",
     "output_type": "stream",
     "text": [
      "Transcribe: 100%|██████████| 673.1/673.1 [00:44<00:00, 15.25sec/s] \n"
     ]
    },
    {
     "name": "stdout",
     "output_type": "stream",
     "text": [
      "Completed transcription with faster-whisper (./youtube/_whisper_model).\n",
      "Predicting silences(s) with VAD...\r"
     ]
    },
    {
     "name": "stderr",
     "output_type": "stream",
     "text": [
      "Processing files: 100%|█████████▉| 2975/2979 [46:34<04:05, 61.30s/file]"
     ]
    },
    {
     "name": "stdout",
     "output_type": "stream",
     "text": [
      "Predicted silence(s) with VAD.       \n",
      "Processing 2993_20221022_IS THE FED CRASHING THE STOCK MARKET INTO A RECESSION  HERE ARE MY STOCKS THAT I AM WATCHING EOZkrFCti8w.mp3\n",
      "Detected Language: english\n",
      "Transcribing with faster-whisper (./youtube/_whisper_model)...\r"
     ]
    },
    {
     "name": "stderr",
     "output_type": "stream",
     "text": [
      "Transcribe: 100%|██████████| 825.61/825.61 [00:57<00:00, 14.42sec/s]\n"
     ]
    },
    {
     "name": "stdout",
     "output_type": "stream",
     "text": [
      "Completed transcription with faster-whisper (./youtube/_whisper_model).\n",
      "Predicting silences(s) with VAD...\r"
     ]
    },
    {
     "name": "stderr",
     "output_type": "stream",
     "text": [
      "Processing files: 100%|█████████▉| 2976/2979 [47:49<03:16, 65.53s/file]"
     ]
    },
    {
     "name": "stdout",
     "output_type": "stream",
     "text": [
      "Predicted silence(s) with VAD.       \n",
      "Processing 2994_20221022_100X Profits From SME Shares  sme ipo  stock market Sw1TqavmoPA.mp3\n",
      "Detected Language: english\n",
      "Transcribing with faster-whisper (./youtube/_whisper_model)...\r"
     ]
    },
    {
     "name": "stderr",
     "output_type": "stream",
     "text": [
      "Transcribe: 100%|██████████| 795.13/795.13 [00:49<00:00, 15.98sec/s]\n"
     ]
    },
    {
     "name": "stdout",
     "output_type": "stream",
     "text": [
      "Completed transcription with faster-whisper (./youtube/_whisper_model).\n",
      "Predicting silences(s) with VAD...\r"
     ]
    },
    {
     "name": "stderr",
     "output_type": "stream",
     "text": [
      "Processing files: 100%|█████████▉| 2977/2979 [48:56<02:12, 66.01s/file]"
     ]
    },
    {
     "name": "stdout",
     "output_type": "stream",
     "text": [
      "Predicted silence(s) with VAD.       \n",
      "Processing 2995_20231102_October 21 2022 Stock Market Analysis Z_9VZNfb7IM.mp3\n",
      "Detected Language: english\n",
      "Transcribing with faster-whisper (./youtube/_whisper_model)...\r"
     ]
    },
    {
     "name": "stderr",
     "output_type": "stream",
     "text": [
      "Transcribe: 100%|██████████| 895.76/895.76 [00:51<00:00, 17.28sec/s]\n"
     ]
    },
    {
     "name": "stdout",
     "output_type": "stream",
     "text": [
      "Completed transcription with faster-whisper (./youtube/_whisper_model).\n",
      "Predicting silences(s) with VAD...\r"
     ]
    },
    {
     "name": "stderr",
     "output_type": "stream",
     "text": [
      "Processing files: 100%|█████████▉| 2978/2979 [50:08<00:01,  1.01s/file]"
     ]
    },
    {
     "name": "stdout",
     "output_type": "stream",
     "text": [
      "Predicted silence(s) with VAD.       \n",
      "Processing 2996_20221023_How to Invest In a Stock Market Crash Tamil  3 Lessons from Legendary Investors  almost everything xv51xtAytIs.mp3\n"
     ]
    },
    {
     "name": "stderr",
     "output_type": "stream",
     "text": [
      "\n"
     ]
    }
   ],
   "source": [
    "import os\n",
    "import natsort\n",
    "from tqdm import tqdm\n",
    "import time\n",
    "import stable_whisper\n",
    "\n",
    "directory_path = \"./youtube/_data\"\n",
    "model_path = \"./youtube/_whisper_model\"\n",
    "\n",
    "# Load Whisper model\n",
    "model = stable_whisper.load_faster_whisper(model_path, device=\"cuda\", compute_type=\"float16\")\n",
    "\n",
    "# Walk through the directory\n",
    "for root, dirs, files in os.walk(directory_path):\n",
    "    files = natsort.natsorted(files)\n",
    "    \n",
    "    # Wrap file processing with tqdm\n",
    "    with tqdm(total=len(files), desc=\"Processing files\", unit=\"file\") as pbar:\n",
    "        for file in files:\n",
    "            # Process only .mp3 files\n",
    "            if file.endswith(\".mp3\"):\n",
    "                video_file_path = os.path.join(root, file)\n",
    "                video_filename = os.path.splitext(os.path.basename(video_file_path))[0]\n",
    "                txt_filename = f'{video_filename}.txt'\n",
    "                txt_file_path = f\"./youtube/_transcribe/{txt_filename}\" # path\n",
    "\n",
    "                # Check if the txt file already exists\n",
    "                if os.path.exists(txt_file_path):\n",
    "                    pass\n",
    "                else:\n",
    "                    # Transcribe the video\n",
    "                    result = model.transcribe_stable(video_file_path, vad=True, language=\"en\", verbose=False)\n",
    "\n",
    "                    # Save the result to a txt file\n",
    "                    with open(txt_file_path, 'w', encoding='utf-8') as txt_file:\n",
    "                        txt_file.write(result.text)\n",
    "                    tqdm.write(f\"Processing {file}\")\n",
    "\n",
    "                # Update the tqdm progress bar\n",
    "                pbar.update(1)\n"
   ]
  },
  {
   "cell_type": "code",
   "execution_count": null,
   "metadata": {},
   "outputs": [],
   "source": []
  }
 ],
 "metadata": {
  "kernelspec": {
   "display_name": ".felab",
   "language": "python",
   "name": ".felab"
  },
  "language_info": {
   "codemirror_mode": {
    "name": "ipython",
    "version": 3
   },
   "file_extension": ".py",
   "mimetype": "text/x-python",
   "name": "python",
   "nbconvert_exporter": "python",
   "pygments_lexer": "ipython3",
   "version": "3.10.11"
  }
 },
 "nbformat": 4,
 "nbformat_minor": 2
}
