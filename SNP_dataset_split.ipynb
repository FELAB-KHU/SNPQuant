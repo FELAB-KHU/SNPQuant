{
 "cells": [
  {
   "cell_type": "code",
   "execution_count": null,
   "metadata": {},
   "outputs": [],
   "source": [
    "import pandas as pd\n",
    "files = 'market'\n",
    "columns1=['companyId', 'companyName', 'tickerSymbol', 'exchangeSymbol', 'ISOCode']\n",
    "columns2=['pricingDate', 'exDate', 'payDate', 'recordDate', 'announcedDate']\n",
    "columns3=['priceClose', 'volume', 'adjustmentFactor', 'VWAP', 'divAdjFactor', 'marketCap', 'TEV', 'sharesOutstanding']\n",
    "columns4=['divFreqTypeName', 'supplementalTypeName', 'dividendTypeName', 'divAmount', 'netAmount', 'grossAmount',]\n",
    "\n",
    "df = pd.read_parquet(f'./{files}.parquet', engine='fastparquet', columns=columns4)\n",
    "\n",
    "quarter_size = len(df) // 4\n",
    "for quarter in range(4):\n",
    "    start_row = quarter * quarter_size\n",
    "    end_row = (quarter + 1) * quarter_size if quarter < 3 else len(df)\n",
    "    \n",
    "    # Extract the quarter of the DataFrame\n",
    "    df_quarter = df.iloc[start_row:end_row]\n",
    "\n",
    "    # Process df_quarter as needed\n",
    "    # For example, perform some operations, analysis, or save to a new file\n",
    "    # ...\n",
    "\n",
    "    # Optional: Save each quarter to a new file if needed\n",
    "    df_quarter.to_parquet(f'./{files}_columns4_quarter_{quarter + 1}.parquet')\n",
    "\n",
    "for quarter in range(1, 5):\n",
    "    # Read files for each quarter\n",
    "    df1 = pd.read_parquet(f'market_columns1_quarter_{quarter}.parquet')\n",
    "    df2 = pd.read_parquet(f'market_columns2_quarter_{quarter}.parquet')\n",
    "    df3 = pd.read_parquet(f'market_columns3_quarter_{quarter}.parquet')\n",
    "    df4 = pd.read_parquet(f'market_columns4_quarter_{quarter}.parquet')\n",
    "\n",
    "    # Combine horizontally\n",
    "    combined_df = pd.concat([df1, df2, df3, df4], axis=1)\n",
    "\n",
    "    # Optionally, save the combined DataFrame to a new file\n",
    "    combined_df.to_parquet(f'market_combined_quarter_{quarter}.parquet')"
   ]
  },
  {
   "cell_type": "code",
   "execution_count": 13,
   "metadata": {},
   "outputs": [],
   "source": [
    "quarter = [2, 3, 4]\n",
    "\n",
    "for q in quarter:\n",
    "    df = pd.read_parquet(f'./_SNP_dataset/market_combined_quarter_{q}.parquet', engine='fastparquet')\n",
    "    # exchangeSymbol로 구분해서 exchangeSymbol별로 parquet 저장\n",
    "    exchangeSymbol = df['exchangeSymbol'].unique()\n",
    "    for i in exchangeSymbol:\n",
    "        df_ex = df[df['exchangeSymbol'] == i]\n",
    "        df_ex.to_parquet(f'./_SNP_dataset/exchange/market_quarter_{q}_{i}.parquet')"
   ]
  }
 ],
 "metadata": {
  "kernelspec": {
   "display_name": ".felab",
   "language": "python",
   "name": ".felab"
  },
  "language_info": {
   "codemirror_mode": {
    "name": "ipython",
    "version": 3
   },
   "file_extension": ".py",
   "mimetype": "text/x-python",
   "name": "python",
   "nbconvert_exporter": "python",
   "pygments_lexer": "ipython3",
   "version": "3.10.11"
  }
 },
 "nbformat": 4,
 "nbformat_minor": 2
}
