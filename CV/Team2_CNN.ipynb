{
  "cells": [
    {
      "cell_type": "code",
      "execution_count": null,
      "metadata": {
        "id": "4T-tnCaybY2o"
      },
      "outputs": [],
      "source": [
        "!nvidia-smi"
      ],
      "id": "4T-tnCaybY2o"
    },
    {
      "cell_type": "code",
      "execution_count": null,
      "metadata": {
        "id": "5471f6d8-28de-41d7-99dd-e06aa21d6f5a"
      },
      "outputs": [],
      "source": [
        "import os\n",
        "import random\n",
        "import shutil\n",
        "from tqdm import tqdm\n",
        "\n",
        "import torch\n",
        "import torch.nn as nn\n",
        "import torch.optim as optim\n",
        "from torchvision import datasets, transforms\n",
        "from torch.utils.data import DataLoader"
      ],
      "id": "5471f6d8-28de-41d7-99dd-e06aa21d6f5a"
    },
    {
      "cell_type": "code",
      "execution_count": null,
      "metadata": {
        "colab": {
          "base_uri": "https://localhost:8080/"
        },
        "id": "ee296cec-f78f-4910-9d3f-2d5f57334b57",
        "outputId": "fcfe5343-3e6f-4779-8354-e4841793a9a6"
      },
      "outputs": [
        {
          "name": "stdout",
          "output_type": "stream",
          "text": [
            "GPU 사용: Tesla V100-SXM2-16GB\n"
          ]
        }
      ],
      "source": [
        "# device = torch.device(\"mps\") if torch.backends.mps.is_available() else \"cpu\"\n",
        "if torch.cuda.is_available():\n",
        "    device = torch.device(\"cuda\")  # GPU로 설정\n",
        "    print(f\"GPU 사용: {torch.cuda.get_device_name(0)}\")  # GPU 이름 출력\n",
        "else:\n",
        "    device = torch.device(\"cpu\")  # CPU로 설정\n",
        "    print(\"GPU를 사용할 수 없습니다. CPU로 진행합니다.\")"
      ],
      "id": "ee296cec-f78f-4910-9d3f-2d5f57334b57"
    },
    {
      "cell_type": "code",
      "execution_count": null,
      "metadata": {
        "colab": {
          "base_uri": "https://localhost:8080/"
        },
        "id": "_opfRnM9YLpo",
        "outputId": "58be95c8-c7bc-48d2-ab5d-6590bdb18a70"
      },
      "outputs": [
        {
          "name": "stdout",
          "output_type": "stream",
          "text": [
            "Mounted at /content/gdrive\n"
          ]
        }
      ],
      "source": [
        "from google.colab import drive\n",
        "\n",
        "drive.mount('/content/gdrive')"
      ],
      "id": "_opfRnM9YLpo"
    },
    {
      "cell_type": "markdown",
      "metadata": {
        "id": "fdcb60cd-8240-4cf6-b46b-794d30d0291b"
      },
      "source": [
        "## DEFS"
      ],
      "id": "fdcb60cd-8240-4cf6-b46b-794d30d0291b"
    },
    {
      "cell_type": "code",
      "execution_count": null,
      "metadata": {
        "id": "0e79d1f7-e381-4c45-8a6e-b430c3cd6d84"
      },
      "outputs": [],
      "source": [
        "def cnt_dir(dir):\n",
        "\n",
        "    lst = os.listdir(dir)\n",
        "    cnt = len(lst)\n",
        "\n",
        "    return cnt"
      ],
      "id": "0e79d1f7-e381-4c45-8a6e-b430c3cd6d84"
    },
    {
      "cell_type": "code",
      "execution_count": null,
      "metadata": {
        "colab": {
          "base_uri": "https://localhost:8080/"
        },
        "id": "Ci28GOqqdyDl",
        "outputId": "d78ad55c-178b-43c5-e0d7-420ef4601653"
      },
      "outputs": [
        {
          "data": {
            "text/plain": [
              "0"
            ]
          },
          "execution_count": 19,
          "metadata": {},
          "output_type": "execute_result"
        }
      ],
      "source": [
        "import os\n",
        "\n",
        "file_name = \"/content/gdrive/MyDrive/data.zip\"\n",
        "output_dir = \"/content/\"\n",
        "os.system(\"unzip \"+file_name+\" -d \"+output_dir)"
      ],
      "id": "Ci28GOqqdyDl"
    },
    {
      "cell_type": "code",
      "execution_count": null,
      "metadata": {
        "id": "564fbb5e-15c4-40f5-87e3-2ec1f78eb0ae"
      },
      "outputs": [],
      "source": [
        "def move_file(source, dest, pct): # 0.3 = 30%\n",
        "    files = os.listdir(source)\n",
        "    num = int(len(files)*pct)\n",
        "\n",
        "    move = random.sample(files, num)\n",
        "\n",
        "    for file_name in move:\n",
        "        source_file = os.path.join(source, file_name)\n",
        "        dest_file = os.path.join(dest, file_name)\n",
        "        shutil.move(source_file, dest_file)"
      ],
      "id": "564fbb5e-15c4-40f5-87e3-2ec1f78eb0ae"
    },
    {
      "cell_type": "code",
      "execution_count": null,
      "metadata": {
        "id": "b22e9f00-599e-4e82-96f2-d30155303f11"
      },
      "outputs": [],
      "source": [
        "import torch.nn.functional as F\n",
        "\n",
        "class CNN(nn.Module):\n",
        "    def __init__(self):\n",
        "        super(CNN, self).__init__()\n",
        "        self.conv_layers = nn.Sequential(\n",
        "            nn.Conv2d(3, 64, kernel_size=(5, 3)),\n",
        "            nn.LeakyReLU(0.1),\n",
        "            nn.MaxPool2d((2, 1)),\n",
        "\n",
        "            nn.Conv2d(64, 128, kernel_size=(5, 3)),\n",
        "            nn.LeakyReLU(0.1),\n",
        "            nn.MaxPool2d((2, 1)),\n",
        "\n",
        "            nn.Conv2d(128, 256, kernel_size=(5, 3)),\n",
        "            nn.LeakyReLU(0.1),\n",
        "            nn.MaxPool2d((2, 1)),\n",
        "\n",
        "            nn.Conv2d(256, 512, kernel_size=(5, 3)),\n",
        "            nn.LeakyReLU(0.1),\n",
        "            nn.MaxPool2d((2, 1)),\n",
        "        )\n",
        "        self.fc_layers = nn.Sequential(\n",
        "            nn.Linear(512*7*88, 256),\n",
        "            nn.LeakyReLU(0.1),\n",
        "            nn.Dropout(0.5),\n",
        "            nn.Linear(256, 2)  # 마지막 레이어에서 Softmax 없이 출력\n",
        "        )\n",
        "\n",
        "    def forward(self, x):\n",
        "        x = self.conv_layers(x)\n",
        "        x = x.view(x.size(0), -1)\n",
        "        x = self.fc_layers(x)\n",
        "        return x\n"
      ],
      "id": "b22e9f00-599e-4e82-96f2-d30155303f11"
    },
    {
      "cell_type": "markdown",
      "metadata": {
        "id": "fca2d210-eb38-4d61-a4ae-4cc790f6640e"
      },
      "source": [
        "## DATA PREPROCESSING"
      ],
      "id": "fca2d210-eb38-4d61-a4ae-4cc790f6640e"
    },
    {
      "cell_type": "code",
      "execution_count": null,
      "metadata": {
        "id": "f7e0dd1f-f558-496e-9a75-47c8b82fd284"
      },
      "outputs": [],
      "source": [
        "train_neg_path = '/content/train/0'\n",
        "train_pos_path = '/content/train/1'\n",
        "\n",
        "val_neg_path = '/content/val/0'\n",
        "val_pos_path = '/content/val/1'\n",
        "\n",
        "# percent = 0.3\n",
        "\n",
        "# move_file(train_neg_path, val_neg_path, percent)\n",
        "# move_file(train_pos_path, val_pos_path, percent)"
      ],
      "id": "f7e0dd1f-f558-496e-9a75-47c8b82fd284"
    },
    {
      "cell_type": "code",
      "execution_count": null,
      "metadata": {
        "colab": {
          "base_uri": "https://localhost:8080/"
        },
        "id": "4e4bcc6a-ea13-4e55-877a-40352a5f4356",
        "outputId": "227edb49-4851-4a8b-babc-833bfa753012"
      },
      "outputs": [
        {
          "name": "stdout",
          "output_type": "stream",
          "text": [
            "train 0 폴더 파일 개수: 21543\n",
            "1 폴더 파일 개수: 21543\n",
            "val 0 폴더 파일 개수: 9237\n",
            "1 폴더 파일 개수: 9237\n"
          ]
        }
      ],
      "source": [
        "a = cnt_dir(train_neg_path)\n",
        "b = cnt_dir(train_pos_path)\n",
        "c = cnt_dir(val_neg_path)\n",
        "d = cnt_dir(val_pos_path)\n",
        "\n",
        "print('train 0 폴더 파일 개수: {}\\n1 폴더 파일 개수: {}'.format(a, b))\n",
        "print('val 0 폴더 파일 개수: {}\\n1 폴더 파일 개수: {}'.format(c, d))"
      ],
      "id": "4e4bcc6a-ea13-4e55-877a-40352a5f4356"
    },
    {
      "cell_type": "code",
      "execution_count": null,
      "metadata": {
        "id": "64e861d9-64c7-420c-b577-cdca2c691f9b"
      },
      "outputs": [],
      "source": [
        "mean = [0.485, 0.456, 0.406]\n",
        "std = [0.229, 0.224, 0.225]\n",
        "\n",
        "train_transforms = transforms.Compose([\n",
        "    transforms.Resize((180, 96)),\n",
        "    transforms.RandomResizedCrop(size=(180, 96), scale=(0.8, 1.0), ratio=(0.75, 1.333)),\n",
        "    transforms.GaussianBlur(kernel_size=3),\n",
        "    transforms.RandomErasing(p=0.5, scale=(0.02, 0.33), ratio=(0.3, 3.3), value='random')\n",
        "    transforms.ToTensor(),\n",
        "    transforms.Normalize(mean=mean, std=std)\n",
        "])\n",
        "\n",
        "val_transforms = transforms.Compose([\n",
        "    transforms.Resize((180, 96)),\n",
        "    transforms.ToTensor(),\n",
        "    transforms.Normalize(mean=mean, std=std)\n",
        "])"
      ],
      "id": "64e861d9-64c7-420c-b577-cdca2c691f9b"
    },
    {
      "cell_type": "code",
      "execution_count": null,
      "metadata": {
        "id": "e33c581b-2d39-4ccb-b8db-1e0370090332"
      },
      "outputs": [],
      "source": [
        "train_data = datasets.ImageFolder(root='/content/train', transform=train_transforms)\n",
        "val_data = datasets.ImageFolder(root='/content/val', transform=val_transforms)\n",
        "\n",
        "train_loader = DataLoader(train_data, batch_size=128, shuffle=True)\n",
        "val_loader = DataLoader(val_data, batch_size=128)"
      ],
      "id": "e33c581b-2d39-4ccb-b8db-1e0370090332"
    },
    {
      "cell_type": "markdown",
      "metadata": {
        "id": "28cd4ed5-3be7-4b17-8ab0-b5106e66f132"
      },
      "source": [
        "## TRAIN"
      ],
      "id": "28cd4ed5-3be7-4b17-8ab0-b5106e66f132"
    },
    {
      "cell_type": "code",
      "execution_count": null,
      "metadata": {
        "colab": {
          "base_uri": "https://localhost:8080/"
        },
        "id": "473d2d8f-1288-4eb9-a8fb-8595c2572893",
        "outputId": "8df8c570-13b5-4dff-9a9b-45fb2ee5cea9"
      },
      "outputs": [
        {
          "data": {
            "text/plain": [
              "CNN(\n",
              "  (conv_layers): Sequential(\n",
              "    (0): Conv2d(3, 64, kernel_size=(5, 3), stride=(1, 1))\n",
              "    (1): LeakyReLU(negative_slope=0.1)\n",
              "    (2): MaxPool2d(kernel_size=(2, 1), stride=(2, 1), padding=0, dilation=1, ceil_mode=False)\n",
              "    (3): Conv2d(64, 128, kernel_size=(5, 3), stride=(1, 1))\n",
              "    (4): LeakyReLU(negative_slope=0.1)\n",
              "    (5): MaxPool2d(kernel_size=(2, 1), stride=(2, 1), padding=0, dilation=1, ceil_mode=False)\n",
              "    (6): Conv2d(128, 256, kernel_size=(5, 3), stride=(1, 1))\n",
              "    (7): LeakyReLU(negative_slope=0.1)\n",
              "    (8): MaxPool2d(kernel_size=(2, 1), stride=(2, 1), padding=0, dilation=1, ceil_mode=False)\n",
              "    (9): Conv2d(256, 512, kernel_size=(5, 3), stride=(1, 1))\n",
              "    (10): LeakyReLU(negative_slope=0.1)\n",
              "    (11): MaxPool2d(kernel_size=(2, 1), stride=(2, 1), padding=0, dilation=1, ceil_mode=False)\n",
              "  )\n",
              "  (fc_layers): Sequential(\n",
              "    (0): Linear(in_features=315392, out_features=256, bias=True)\n",
              "    (1): LeakyReLU(negative_slope=0.1)\n",
              "    (2): Dropout(p=0.5, inplace=False)\n",
              "    (3): Linear(in_features=256, out_features=2, bias=True)\n",
              "  )\n",
              ")"
            ]
          },
          "execution_count": 32,
          "metadata": {},
          "output_type": "execute_result"
        }
      ],
      "source": [
        "model = CNN()\n",
        "criterion = nn.CrossEntropyLoss()\n",
        "optimizer = optim.Adam(model.parameters(), lr=0.001)\n",
        "\n",
        "epochs = 30\n",
        "model.to(device)"
      ],
      "id": "473d2d8f-1288-4eb9-a8fb-8595c2572893"
    },
    {
      "cell_type": "code",
      "execution_count": null,
      "metadata": {
        "colab": {
          "background_save": true,
          "base_uri": "https://localhost:8080/"
        },
        "id": "cb80cdb9-1ce4-4b12-848e-27309d2af7c7",
        "scrolled": true,
        "outputId": "49468f92-34a8-44bf-c104-c254260c9a86"
      },
      "outputs": [
        {
          "name": "stdout",
          "output_type": "stream",
          "text": [
            "Epoch [1/30] Loss: 2.2770 Val Loss: 0.7010 Accuracy: 50.00%\n",
            "Epoch [2/30] Loss: 0.6522 Val Loss: 0.6381 Accuracy: 59.43%\n",
            "Epoch [3/30] Loss: 230.2478 Val Loss: 1.3166 Accuracy: 57.34%\n",
            "Epoch [4/30] Loss: 0.9544 Val Loss: 0.6868 Accuracy: 57.19%\n",
            "Epoch [5/30] Loss: 0.7920 Val Loss: 0.6483 Accuracy: 57.50%\n",
            "Epoch [6/30] Loss: 0.7996 Val Loss: 0.6891 Accuracy: 50.00%\n",
            "Epoch [7/30] Loss: 1.9326 Val Loss: 10.7591 Accuracy: 51.18%\n",
            "Epoch [8/30] Loss: 1.6619 Val Loss: 0.6818 Accuracy: 50.01%\n",
            "Epoch [9/30] Loss: 0.6792 Val Loss: 0.6506 Accuracy: 60.92%\n",
            "Epoch [10/30] Loss: 412.5912 Val Loss: 19.9193 Accuracy: 50.00%\n",
            "Epoch [11/30] Loss: 4.5257 Val Loss: 5.2304 Accuracy: 50.39%\n",
            "Epoch [12/30] Loss: 1.4796 Val Loss: 0.7454 Accuracy: 57.22%\n",
            "Epoch [13/30] Loss: 0.9288 Val Loss: 0.6604 Accuracy: 56.72%\n",
            "Epoch [14/30] Loss: 0.9413 Val Loss: 0.6497 Accuracy: 60.73%\n",
            "Epoch [15/30] Loss: 0.8080 Val Loss: 0.7164 Accuracy: 51.14%\n",
            "Epoch [16/30] Loss: 0.7649 Val Loss: 0.6571 Accuracy: 57.63%\n",
            "Epoch [17/30] Loss: 0.7575 Val Loss: 0.6290 Accuracy: 61.70%\n",
            "Epoch [18/30] Loss: 0.6789 Val Loss: 0.6306 Accuracy: 62.88%\n",
            "Epoch [19/30] Loss: 0.7212 Val Loss: 0.7473 Accuracy: 50.00%\n",
            "Epoch [20/30] Loss: 0.7278 Val Loss: 0.6617 Accuracy: 57.54%\n",
            "Epoch [21/30] Loss: 1.0058 Val Loss: 0.6481 Accuracy: 60.20%\n",
            "Epoch [22/30] Loss: 0.7252 Val Loss: 0.6449 Accuracy: 56.44%\n",
            "Epoch [23/30] Loss: 9.9835 Val Loss: 1.0122 Accuracy: 54.11%\n",
            "Epoch [24/30] Loss: 29748.8729 Val Loss: 636.0655 Accuracy: 54.15%\n",
            "Epoch [25/30] Loss: 1145.7434 Val Loss: 155.4255 Accuracy: 58.02%\n",
            "Epoch [26/30] Loss: 231.7554 Val Loss: 55.8300 Accuracy: 53.92%\n",
            "Epoch [27/30] Loss: 131.3695 Val Loss: 39.0555 Accuracy: 57.75%\n",
            "Epoch [28/30] Loss: 150.3262 Val Loss: 34.0383 Accuracy: 56.97%\n",
            "Epoch [29/30] Loss: 75.8930 Val Loss: 83.0561 Accuracy: 49.96%\n",
            "Epoch [30/30] Loss: 50.0988 Val Loss: 29.2904 Accuracy: 50.04%\n"
          ]
        }
      ],
      "source": [
        "for epoch in tqdm(range(epochs)):\n",
        "    model.train()\n",
        "    running_loss = 0.0\n",
        "    for inputs, labels in train_loader:\n",
        "        inputs, labels = inputs.to(device), labels.to(device)\n",
        "        optimizer.zero_grad()\n",
        "        outputs = model(inputs)\n",
        "        loss = criterion(outputs, labels)\n",
        "        loss.backward()\n",
        "        optimizer.step()\n",
        "        running_loss += loss.item()\n",
        "\n",
        "    # validation\n",
        "    model.eval()\n",
        "    val_loss = 0.0\n",
        "    correct = 0\n",
        "    total = 0\n",
        "    with torch.no_grad():\n",
        "        for inputs, labels in val_loader:\n",
        "            inputs, labels = inputs.to(device), labels.to(device)\n",
        "            outputs = model(inputs)\n",
        "            loss = criterion(outputs, labels)\n",
        "            val_loss += loss.item()\n",
        "            _, predicted = torch.max(outputs.data, 1)\n",
        "            total += labels.size(0)\n",
        "            correct += (predicted == labels).sum().item()\n",
        "\n",
        "    print(f\"Epoch [{epoch + 1}/{epochs}] \"\n",
        "          f\"Loss: {running_loss / len(train_loader):.4f} \"\n",
        "          f\"Val Loss: {val_loss / len(val_loader):.4f} \"\n",
        "          f\"Accuracy: {(100 * correct / total):.2f}%\")"
      ],
      "id": "cb80cdb9-1ce4-4b12-848e-27309d2af7c7"
    },
    {
      "cell_type": "code",
      "execution_count": null,
      "metadata": {
        "colab": {
          "background_save": true,
          "base_uri": "https://localhost:8080/"
        },
        "id": "1313b695-5b32-43ae-9375-be841b1e4e56",
        "outputId": "21928efb-8e4d-4b89-e2f6-815d151dca76"
      },
      "outputs": [
        {
          "name": "stdout",
          "output_type": "stream",
          "text": [
            "모델이 /content/gdrive/MyDrive/model2.pth에 저장되었습니다.\n"
          ]
        }
      ],
      "source": [
        "# 모델 저장 경로 설정\n",
        "model_path = '/content/gdrive/MyDrive/model2.pth'\n",
        "\n",
        "# 모델 상태 저장\n",
        "torch.save(model.state_dict(), model_path)\n",
        "\n",
        "print(f\"모델이 {model_path}에 저장되었습니다.\")\n"
      ],
      "id": "1313b695-5b32-43ae-9375-be841b1e4e56"
    }
  ],
  "metadata": {
    "accelerator": "GPU",
    "colab": {
      "machine_shape": "hm",
      "provenance": []
    },
    "kernelspec": {
      "display_name": "Python 3",
      "name": "python3"
    },
    "language_info": {
      "codemirror_mode": {
        "name": "ipython",
        "version": 3
      },
      "file_extension": ".py",
      "mimetype": "text/x-python",
      "name": "python",
      "nbconvert_exporter": "python",
      "pygments_lexer": "ipython3",
      "version": "3.11.5"
    }
  },
  "nbformat": 4,
  "nbformat_minor": 5
}