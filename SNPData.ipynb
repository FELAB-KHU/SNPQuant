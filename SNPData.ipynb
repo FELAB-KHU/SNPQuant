{
 "cells": [
  {
   "cell_type": "code",
   "execution_count": null,
   "metadata": {},
   "outputs": [],
   "source": [
    "import pandas as pd\n",
    "files = 'market'\n",
    "columns1=['companyId', 'companyName', 'tickerSymbol', 'exchangeSymbol', 'ISOCode']\n",
    "columns2=['pricingDate', 'exDate', 'payDate', 'recordDate', 'announcedDate']\n",
    "columns3=['priceClose', 'volume', 'adjustmentFactor', 'VWAP', 'divAdjFactor', 'marketCap', 'TEV', 'sharesOutstanding']\n",
    "columns4=['divFreqTypeName', 'supplementalTypeName', 'dividendTypeName', 'divAmount', 'netAmount', 'grossAmount',]\n",
    "\n",
    "df = pd.read_parquet(f'./{files}.parquet', engine='fastparquet', columns=columns4)\n",
    "\n",
    "quarter_size = len(df) // 4\n",
    "for quarter in range(4):\n",
    "    start_row = quarter * quarter_size\n",
    "    end_row = (quarter + 1) * quarter_size if quarter < 3 else len(df)\n",
    "    \n",
    "    # Extract the quarter of the DataFrame\n",
    "    df_quarter = df.iloc[start_row:end_row]\n",
    "\n",
    "    # Process df_quarter as needed\n",
    "    # For example, perform some operations, analysis, or save to a new file\n",
    "    # ...\n",
    "\n",
    "    # Optional: Save each quarter to a new file if needed\n",
    "    df_quarter.to_parquet(f'./{files}_columns4_quarter_{quarter + 1}.parquet')\n",
    "\n",
    "for quarter in range(1, 5):\n",
    "    # Read files for each quarter\n",
    "    df1 = pd.read_parquet(f'market_columns1_quarter_{quarter}.parquet')\n",
    "    df2 = pd.read_parquet(f'market_columns2_quarter_{quarter}.parquet')\n",
    "    df3 = pd.read_parquet(f'market_columns3_quarter_{quarter}.parquet')\n",
    "    df4 = pd.read_parquet(f'market_columns4_quarter_{quarter}.parquet')\n",
    "\n",
    "    # Combine horizontally\n",
    "    combined_df = pd.concat([df1, df2, df3, df4], axis=1)\n",
    "\n",
    "    # Optionally, save the combined DataFrame to a new file\n",
    "    combined_df.to_parquet(f'market_combined_quarter_{quarter}.parquet')"
   ]
  },
  {
   "cell_type": "code",
   "execution_count": null,
   "metadata": {},
   "outputs": [],
   "source": [
    "df = pd.read_parquet(f'./market_combined_quarter_1.parquet', engine='fastparquet')\n",
    "temp = df[df['tickerSymbol'] == 'AAPL']\n",
    "temp"
   ]
  },
  {
   "cell_type": "code",
   "execution_count": null,
   "metadata": {},
   "outputs": [],
   "source": [
    "# Convert the 'pricingDate' to datetime format\n",
    "df_sample = temp.copy()\n",
    "df_sample['pricingDate'] = pd.to_datetime(df_sample['pricingDate'])\n",
    "\n",
    "# Check for missing dates\n",
    "all_dates = pd.date_range(start=df_sample['pricingDate'].min(), end=df_sample['pricingDate'].max(), freq='B')  # 'B' for business days\n",
    "missing_dates = all_dates.difference(df_sample['pricingDate'])\n",
    "\n",
    "# Display missing dates\n",
    "print(\"Missing Dates:\", missing_dates)"
   ]
  }
 ],
 "metadata": {
  "language_info": {
   "name": "python"
  }
 },
 "nbformat": 4,
 "nbformat_minor": 2
}
